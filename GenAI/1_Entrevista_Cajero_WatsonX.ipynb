{
 "cells": [
  {
   "cell_type": "markdown",
   "metadata": {},
   "source": [
    "# Entrevista Cajero (WatsonX)"
   ]
  },
  {
   "cell_type": "code",
   "execution_count": 1,
   "metadata": {},
   "outputs": [],
   "source": [
    "import os\n",
    "import json\n",
    "import requests\n",
    "import re\n",
    "import time\n",
    "import random"
   ]
  },
  {
   "cell_type": "markdown",
   "metadata": {},
   "source": [
    "## Selección Modelo LLM"
   ]
  },
  {
   "cell_type": "code",
   "execution_count": 2,
   "metadata": {},
   "outputs": [
    {
     "name": "stdin",
     "output_type": "stream",
     "text": [
      "\n",
      "Qué modelo vas a ejecutar? Ingresá M (Mixtral-8x7b) o ML (Mistral Large) o G (GPT3.5):   M\n"
     ]
    }
   ],
   "source": [
    "# Pregunta el modelo a ejecutar\n",
    "select_model = input (\"\\nQué modelo vas a ejecutar? Ingresá M (Mixtral-8x7b) o ML (Mistral Large) o G (GPT3.5):  \")"
   ]
  },
  {
   "cell_type": "code",
   "execution_count": 26,
   "metadata": {},
   "outputs": [
    {
     "name": "stdout",
     "output_type": "stream",
     "text": [
      "\n",
      " Se ejecutará el modelo: 'mistralai/mixtral-8x7b-instruct-v01'\n",
      "\n"
     ]
    }
   ],
   "source": [
    "if select_model.lower() == 'm':\n",
    "    model = \"mistralai/mixtral-8x7b-instruct-v01\"\n",
    "elif select_model.lower() == 'ml':\n",
    "    model = \"mistralai/mistral-large\"\n",
    "else:\n",
    "    model = \"gpt-3.5-turbo\"\n",
    "    try:\n",
    "       import openai\n",
    "    except:\n",
    "        !pip install openai\n",
    "        import openai\n",
    "    openai.api_key = '' #os.getenv('OPENAI_API_KEY')\n",
    "print(\"\\n Se ejecutará el modelo: '\"+model+\"'\\n\")"
   ]
  },
  {
   "cell_type": "code",
   "execution_count": 27,
   "metadata": {},
   "outputs": [],
   "source": [
    "#config Watsonx.ai environment # NO TOCAR\n",
    "#load_dotenv()\n",
    "api_key = \"\" #os.getenv(\"API_KEY\", None)\n",
    "ibm_cloud_url = \"\" #os.getenv(\"IBM_CLOUD_URL\", None)\n",
    "project_id = \"\" #os.getenv(\"PROJECT_ID\", None)\n",
    "creds = {\n",
    "    \"url\": ibm_cloud_url,\n",
    "    \"apikey\": api_key \n",
    "}\n",
    "token = ''\n",
    "\n",
    "# propiedades\n",
    "max_tokens_limit = 8192\n",
    "max_tokens = 8192\n",
    "temperature = 0.7\n",
    "top_p = 1.0\n",
    "random_seed = random.randrange(1,99)\n",
    "total_tokens_used = 0\n",
    "response_seconds = 0.0\n",
    "total_response_seconds = 0.0\n",
    "avg_response_seconds = 0.0\n",
    "\n",
    "# prompts\n",
    "puesto = \"Cajero Polivalente de supermercado\"\n",
    "tareas = \"\"\" - Atender a los clientes en la caja registradora.\n",
    "- Recibir pagos con distintos medios de pago. \n",
    "- Escanear y registrar productos. \n",
    "- Realizar cierres y arqueos de caja al final del turno. \n",
    "- Asistir a los clientes sobre precios, promociones y ubicación de productos. \n",
    "- Mantener la caja registradora organizada. \n",
    "- Abrir y cerrar la caja registradora con responsabilidad. \n",
    "- Verificar y contar la cantidad de billetes en la caja registradora. \n",
    "- Verificar precios y promociones vigentes. \n",
    "- Gestionar devoluciones y cambios de productos. \n",
    "- Proporcionar información sobre productos y servicios de la tienda. \n",
    "- Colaborar con el equipo de seguridad para evitar robos. \n",
    "- Brindar un servicio amigable y eficiente a los clientes. \n",
    "- Manejar reclamos y quejas de los clientes de manera adecuada. \n",
    "- Asistir en la capacitación de nuevos empleados. \n",
    "- Informar a los supervisores sobre discrepancias en el inventario. \"\"\"\n",
    "\n",
    "# prompt system inicial\n",
    "prompt_system_entrevistas = f\"\"\"\n",
    "Eres un reclutador entrevistando a un candidato para el puesto de {puesto} en Argentina. \n",
    "Tu objetivo es hacer preguntas al candidato sobre las tareas del puesto para evaluar su aptitud. \n",
    "Las tareas del Cajero Polivalente son: \n",
    "{tareas}\n",
    "Ignora: raza, color, género, religión, nacionalidad. \n",
    "\"\"\"\n",
    "\n",
    "# prompts dimensiones\n",
    "json_dimensiones = '''\n",
    "[\n",
    "    {\"dimension\": \"experiencia\", \"prompt\": \"Sigue las siguientes instrucciones, reglas estrictas y ejemplos. \n",
    "    Instrucciones: \n",
    "    - Genera una pregunta directa y comprensible para un adolescente, de menos de 30 palabras, sobre la EXPERIENCIA del candidato en relación a alguna de las tareas mencionadas del Cajero Polivalente; y solicita que ejemplifique.\n",
    "    Reglas: \n",
    "    - La pregunta No debe incluir temas como: atención al cliente, manejo de conflictos y habilidades de comunicación. \n",
    "    - Usa una de estas palabras para comenzar la pregunta: qué, cómo, cuándo, por qué, dónde, quién, cuál, cuáles, quiero saber, en qué, de qué manera, hasta qué punto, con qué, qué tan, cómo describirías, qué piensas de. \n",
    "    - No uses 'podrías' ni 'puedes' al inicio de la pregunta. \n",
    "    - No saludes, no te disculpes, no justifiques, no realices comentarios y no pongas número de pregunta, solo genera la simple pregunta.\n",
    "    - El formato de salida debe ser solo de esta manera: '¿[pregunta]?' \n",
    "    Ejemplo: \n",
    "     ¿Qué experiencia tienes en mantener la caja registradora organizada? \"},  \n",
    "    {\"dimension\": \"atención al cliente\", \"prompt\": \"Ignora la pregunta anterior, ahora continúa con las siguientes instrucciones, reglas estrictas y ejemplos. \n",
    "    Instrucciones: \n",
    "    - Genera otra pregunta directa y comprensible para un adolescente, de menos de 30 palabras, sobre la ATENCIÓN AL CLIENTE en relación a alguna tarea del puesto, distinta a la preguntada anteriormente; y solicita que ejemplifique.\n",
    "    Reglas: \n",
    "    - La pregunta no debe ser sobre manejo de conflictos ni habilidades de comunicación. \n",
    "    - No uses 'podrías' ni 'puedes' al inicio de la pregunta. \n",
    "    - No saludes, no te disculpes, no justifiques, no realices comentarios y no pongas número de pregunta, solo genera la simple pregunta.\n",
    "    - El formato de salida debe ser solo de esta manera: '¿[pregunta]?' \n",
    "    Ejemplo: \n",
    "     ¿Cómo respondes a los clientes cuando te solicitan información de algún producto? \"},\n",
    "    {\"dimension\": \"manejo de conflicto\", \"prompt\": \"Ignora la pregunta anterior, ahora continúa con las siguientes instrucciones, reglas estrictas y ejemplos. \n",
    "    Instrucciones: \n",
    "    - Genera otra pregunta simple, directa y comprensible para un adolescente, de menos de 30 palabras, sobre el MANEJO DE CONFLICTOS con algún cliente en el supermercado; y solicita que brinde algún ejemplo. \n",
    "    Reglas: \n",
    "    - La pregunta no debe ser sobre atención al cliente ni habilidades de comunicación. \n",
    "    - No uses 'podrías' ni 'puedes' al inicio de la pregunta. \n",
    "    - No saludes, no te disculpes, no justifiques, no realices comentarios y no pongas número de pregunta, solo genera la simple pregunta.\n",
    "    - El formato de salida debe ser solo de esta manera: '¿[pregunta]?' \n",
    "    Ejemplo: \n",
    "     ¿Qué estrategias utilizas para resolver alguna situación complicada con un cliente? \"},\n",
    "    {\"dimension\": \"habilidad de comunicación\", \"prompt\": \"Ignora la pregunta anterior, ahora continúa con las siguientes instrucciones, reglas estrictas y ejemplos. \n",
    "    Instrucciones: \n",
    "    - Genera otra pregunta simple, directa y comprensible para un adolescente, de menos de 30 palabras, sobre la HABILIDAD DE COMUNICACIÓN en el supermercado, solicitandóle que brinde algún ejemplo concreto de alguna sobre estas habilidades: claridad en la comunicación, capacidad de expresarse de forma objetiva, clara y respetuosa, o capacidad de interpretar y utilizar señales no verbales. \n",
    "    Reglas: \n",
    "    - La pregunta no debe ser sobre manejo de conflictos. \n",
    "    - No uses 'podrías' ni 'puedes' al inicio de la pregunta. \n",
    "    - No saludes, no te disculpes, no justifiques, no realices comentarios y no pongas número de pregunta, solo genera la simple pregunta.\n",
    "    - El formato de salida debe ser solo de esta manera: '¿[pregunta]?' \n",
    "     Ejemplo: \n",
    "     ¿Cuáles son tus habilidades de comunicación con los clientes para satisfacer sus necesidades? \"}\n",
    "]\n",
    "'''\n",
    "#     - Usa una de estas frases para comenzar, sin repetir la frase anterior: qué, cómo, cuándo, por qué, dónde, quién, cuál, cuáles, quiero saber, en qué, de qué manera, hasta qué punto, con qué, qué tan, cómo describirías, qué piensas de. \n",
    "#    - El formato de salida debe ser solo de esta manera: '¿[extrae solo el texto de la pregunta sin modificar su contenido ni agregar comentarios adicionales]?' \n",
    "\n",
    "# guardará la conversación entera para la posterior evaluación\n",
    "dialogo_entrevista = []\n",
    "\n",
    "# paso a paso donde se guardarán los prompts\n",
    "messages = []"
   ]
  },
  {
   "cell_type": "code",
   "execution_count": 5,
   "metadata": {},
   "outputs": [],
   "source": [
    "def generateTokenIBM(myApik):\n",
    "    \n",
    "    #curl -X POST 'https://iam.cloud.ibm.com/identity/token' \n",
    "    url = \"https://iam.cloud.ibm.com/identity/token\"\n",
    "    \n",
    "    # -d 'grant_type=urn:ibm:params:oauth:grant-type:apikey & apikey=${myApik}\n",
    "    data = {\n",
    "        \"grant_type\": \"urn:ibm:params:oauth:grant-type:apikey\",\n",
    "        \"apikey\": myApik\n",
    "    }\n",
    "    \n",
    "    # -H 'Content-Type: application/x-www-form-urlencoded'\n",
    "    headers = {\"Content-Type\": \"application/x-www-form-urlencoded\"}\n",
    "\n",
    "    #curl -X POST 'https://iam.cloud.ibm.com/identity/token' -H 'Content-Type: application/x-www-form-urlencoded' \n",
    "    # -d 'grant_type=urn:ibm:params:oauth:grant-type:apikey&apikey=${myApik}'\n",
    "    response = requests.post(url, data=data, headers=headers)  ### La request de CURL.\n",
    "    access_token = None\n",
    "\n",
    "    # Verifica si la solicitud fue exitosa (código de estado 200)\n",
    "    if response.status_code == 200:\n",
    "        # Parsea la respuesta JSON\n",
    "        #print(\"response: \",response,\"\\n\\n\")\n",
    "        json_data = json.loads(response.text)\n",
    "        \n",
    "        # Extrae el valor de 'access_token' de la respuesta JSON\n",
    "        access_token = json_data.get('access_token')\n",
    "        \n",
    "        #if access_token:\n",
    "        #    print(\"Access Token se genero correctamente\")#, access_token)\n",
    "            # Luego, puedes usar 'access_token' en otra solicitud HTTP, por ejemplo:\n",
    "            # headers = {\"Authorization\": f\"Bearer {access_token}\"}\n",
    "            # response = requests.get(\"https://otra-url.com\", headers=headers)\n",
    "\n",
    "        #else:\n",
    "        #    print(\"No se pudo extraer el Access Token de la respuesta JSON.\")\n",
    "    else:\n",
    "        print(f\"La solicitud falló con el código de estado {response.status_code}.\")\n",
    "        print(f\"Response.text: \")\n",
    "        json_data = json.loads(response.text)\n",
    "        print(json_data)\n",
    "        ## print(\"all response: \",dir(response))  ## Para ver todo el contenido de response.\n",
    "\n",
    "    #print(\"\\n\",\"Access Token:\", access_token,\"\\n\")\n",
    "    return access_token\n",
    "    ##########"
   ]
  },
  {
   "cell_type": "code",
   "execution_count": 6,
   "metadata": {},
   "outputs": [],
   "source": [
    "# convierte array de prompts a string mixtral\n",
    "def mixtral_array2string(messages):\n",
    "    cont_user = 0\n",
    "    for m in messages:\n",
    "        if m[\"role\"] == \"system\":\n",
    "            input = f\"<s> [INST] {m['content']} \\n\"\n",
    "        elif m[\"role\"] == \"user\":\n",
    "            input += \" [INST] \" if cont_user > 0 else \" \"\n",
    "            input += f\"{m['content']} [/INST] \"\n",
    "            cont_user = cont_user + 1\n",
    "        else:\n",
    "            input += f\"{m['content']}</s> \"\n",
    "    return input\n",
    "\n",
    "# extrae la pregunta\n",
    "def extraer_pregunta(cadena):\n",
    "    try:\n",
    "        inicio = cadena.index(\"¿\")\n",
    "        fin = cadena.index(\"?\", inicio) + 1\n",
    "        return cadena[inicio:fin]\n",
    "    except ValueError:\n",
    "        return cadena\n",
    "\n",
    "# extrae texto json con [] o con {}\n",
    "def extract_text_between_characters(input_string, characters=\"\"):\n",
    "    # Utiliza una expresión regular para encontrar todo el texto entre \"{...}\"\n",
    "    if characters==\"{}\":\n",
    "        pattern = re.compile(r'\\{(.*?)\\}')\n",
    "        matches = pattern.findall(input_string)\n",
    "    elif characters==\"[]\":\n",
    "        pattern = re.compile(r'\\[(.*?)\\]')\n",
    "        matches = pattern.findall(input_string)\n",
    "    elif characters==\"¿?\":\n",
    "        pattern = re.compile(r'\\¿(.*?)\\?')\n",
    "        matches = pattern.findall(input_string)\n",
    "    else:\n",
    "        matches = input_string\n",
    "    return matches"
   ]
  },
  {
   "cell_type": "code",
   "execution_count": 7,
   "metadata": {},
   "outputs": [],
   "source": [
    "def chat_with_model(messages, model, temperature, max_tokens=250):\n",
    "\n",
    "    start_time = time.time()\n",
    "    \n",
    "    if model == \"mistralai/mixtral-8x7b-instruct-v01\" or model == \"mistralai/mistral-large\":\n",
    "        prompt = mixtral_array2string(messages) # convierte array de prompts a string mixtral\n",
    "        #print(prompt + \"\\n\")\n",
    "        url = \"https://us-south.ml.cloud.ibm.com/ml/v1/text/generation?version=2023-05-29\"\n",
    "        headers = {\n",
    "        \t\"Accept\": \"application/json\",\n",
    "        \t\"Content-Type\": \"application/json\",\n",
    "        \t\"Authorization\": \"Bearer \" + token\n",
    "        }\n",
    "        data = {\n",
    "            \"model_id\": model,\n",
    "            \"project_id\": project_id,\n",
    "            #\"messages\": messages, \n",
    "            # en el input debe pasarse un string con todo el prompt, ej: <s>[INST] bla bla [INST]</s>\n",
    "            # sino tira este error: input must be of type string\n",
    "            #\"input\": f\"\"\"<s>[INST] {prompt_system_entrevistas} [INST]</s> \n",
    "            #[INST] {tmp_prompt} [INST]</s> \"\"\", \n",
    "            \"input\": prompt,\n",
    "            \"parameters\": {\n",
    "                \"decoding_method\": \"sample\", \"temperature\": temperature, \"top_p\": top_p, \"top_k\": 50, \"typical_p\": 1\n",
    "                #\"decoding_method\": \"greedy\"\n",
    "                ,\"min_new_tokens\": 1\n",
    "                ,\"max_new_tokens\": max_tokens\n",
    "                ,\"random_seed\": random_seed\n",
    "                ,\"stop_sequences\": [\"?\"]\n",
    "                ,\"repetition_penalty\": 1.1\n",
    "            },\n",
    "            \"moderations\": {}\n",
    "        }\n",
    "        # ejecuta la api\n",
    "        response = requests.post(url, headers=headers, json=data)\n",
    "        if response.status_code != 200:\n",
    "        \traise Exception(\"Non-200 response: \" + str(response.text))\n",
    "        response_data = response.json()\n",
    "        generated_text = response_data['results'][0]['generated_text']\n",
    "        total_tokens = str(int(response_data['results'][0]['input_token_count']) + int(response_data['results'][0]['generated_token_count']))\n",
    "    \n",
    "    else: # gpt\n",
    "        max_tokens = 4096\n",
    "        response = openai.chat.completions.create(\n",
    "            model=model\n",
    "            ,messages=messages\n",
    "            ,temperature=temperature\n",
    "            ,max_tokens=max_tokens\n",
    "            ,top_p=top_p\n",
    "            ,frequency_penalty=0.0\n",
    "            ,presence_penalty=0.0\n",
    "        )\n",
    "        generated_text = response.choices[0].message.content\n",
    "        total_tokens = response.usage.total_tokens\n",
    "\n",
    "    end_time = time.time()\n",
    "    # mide tiempo de respuesta\n",
    "    response_time = end_time - start_time\n",
    "    \n",
    "    return generated_text, int(total_tokens), round(response_time, 2)\n"
   ]
  },
  {
   "cell_type": "code",
   "execution_count": 8,
   "metadata": {},
   "outputs": [],
   "source": [
    "# Limpia texto de caracteres extendidos y espacios en blanco\n",
    "def clean_text(texto):\n",
    "    # Definir un patrón que permita caracteres ASCII imprimibles y caracteres extendidos del español\n",
    "    caracteres_permitidos = re.compile(r'[^\\x20-\\x7E\\u00A1-\\u00FF]')\n",
    "    texto_limpio = caracteres_permitidos.sub('', texto)\n",
    "    # Eliminar espacios en blanco innecesarios al principio y al final del texto\n",
    "    texto_limpio = texto_limpio.strip()\n",
    "    # Reemplazar más de dos espacios en blanco consecutivos por un solo espacio\n",
    "    texto_limpio = re.sub(r'\\s{2,}', ' ', texto_limpio)\n",
    "    # Reemplaza basura de json\n",
    "    return texto_limpio\n",
    "\n",
    "# convierte una lista a json string\n",
    "def list_to_json(json_lst):\n",
    "    json_str = json.dumps(json_lst, ensure_ascii=False) if type(json_lst) == list else json_lst\n",
    "    json_str = clean_text(json_str)\n",
    "    return json_str\n",
    "\n",
    "# convierte un json string a lista\n",
    "def json_to_list(json_str, characters=\"\"):\n",
    "    json_str = clean_text(json_str)\n",
    "    decoded_json_str = json_str.encode().decode('utf-8-sig')\n",
    "    decoded_json_str = clean_text(decoded_json_str)\n",
    "    decoded_json_str = decoded_json_str.replace(\"```json\", \"\")\n",
    "    decoded_json_str = decoded_json_str.replace(\"```\", \"\")\n",
    "    decoded_json_str = decoded_json_str.replace(\"}[{\", \"[{\")\n",
    "    decoded_json_str = decoded_json_str.replace(\"['{\", \"[{\")\n",
    "    decoded_json_str = decoded_json_str.replace(\"}']\", \"}]\")\n",
    "    if characters==\"\":\n",
    "        decoded_json_str = extract_text_between_characters(decoded_json_str, characters)\n",
    "    #print(decoded_json_str)\n",
    "    try:\n",
    "        json_lst = json.loads(decoded_json_str)\n",
    "    except:\n",
    "        json_lst = decoded_json_str\n",
    "    return json_lst\n"
   ]
  },
  {
   "cell_type": "code",
   "execution_count": 9,
   "metadata": {},
   "outputs": [],
   "source": [
    "# Función para extraer solo la pregunta de un texto\n",
    "def extract_question_from_text(input):\n",
    "    prompt = f\"\"\"Dado este texto: '{input}', extrae solo la pregunta del texto sin modificar el contenido de la pregunta ni agregar comentarios adicionales. La salida debe ser solo la pregunta extraída. \"\"\"\n",
    "    role_message = [{\"role\": \"system\", \"content\": prompt}] \n",
    "    response, tokens_used, r_seconds = chat_with_model(role_message, model, temperature, max_tokens)\n",
    "    return clean_text(response)\n",
    "\n",
    "\n",
    "# Función para crear el prompt inicial y las preguntas subsecuentes\n",
    "def create_system_prompt(system_prompt):\n",
    "    clean_prompt = clean_text(system_prompt) # limpia el texto de caracteres extendidos y espacios en blanco\n",
    "    system_role_message = [{\"role\": \"system\", \"content\": clean_prompt}]  # El sistema configura el contexto inicial\n",
    "    return system_role_message\n",
    "\n",
    "\n",
    "# Función para hacer preguntas al candidato generadas por el modelo\n",
    "def generate_question(messages, prompt):\n",
    "    global total_tokens_used, response_seconds\n",
    "    messages.append({\"role\": \"user\", \"content\": prompt})  # El asistente genera una pregunta\n",
    "    # ejecuta el modelo\n",
    "    response, total_tokens_used, response_seconds = chat_with_model(messages, model, temperature, max_tokens)\n",
    "    question = clean_text(response)\n",
    "    #question = extract_question_from_text(response) \n",
    "    #question = extraer_pregunta(question)\n",
    "    messages.append({\"role\": \"assistant\", \"content\": question})  # El asistente hace la pregunta generada\n",
    "    return question\n",
    "\n",
    "\n",
    "# Función para evaluar si se necesita aclaración\n",
    "def evaluate_response(messages, question, answer):\n",
    "    global total_tokens_used, response_seconds\n",
    "    clean_answer = answer.replace(\"|\", \" \") # quita | si hay en la respuesta\n",
    "\n",
    "    # nuevo user prompt #\n",
    "    prompt = f\"\"\"Respuesta del candidato: '{clean_answer}'. En base a la respuesta del candidato, tú como entrevistador sigue las siguientes instrucciones. \n",
    "Instrucciones: \n",
    " - Si el candidato no comprende la pregunta: reformula la pregunta anterior de forma más comprensible y más directa, no agregues comentarios adicionales, solo genera la simple pregunta. \n",
    " - Si la respuesta es incompleta, o no brinda detalles claros, o es solo una afirmación o negación sin detalles ni ejemplos: genera otra pregunta con lenguaje comprensible y directo para que el candidato brinde mayor información sobre su respuesta anterior, no agregues comentarios adicionales, solo genera la simple pregunta. \n",
    " - Si la respuesta expresa no saber o no tener experiencia en el área: responde solamente \"(No sabe)\". \n",
    " - Si la respuesta es clara y brinda detalles: responde solamente \"(Responde bien)\". \n",
    "\"\"\"\n",
    "\n",
    "    # agrega el user prompt\n",
    "    messages.append({\"role\": \"user\", \"content\": clean_text(prompt)})\n",
    "    # ejecuta el modelo\n",
    "    response, total_tokens_used, response_seconds = chat_with_model(messages,model, temperature, max_tokens)\n",
    "    # las opciones que no necesita repreguntar\n",
    "    clarification_needed = not (any(word in response.lower() for word in ['no sabe', 'responde bien']))\n",
    "    \n",
    "    #if clarification_needed: # depura la pregunta\n",
    "    #    response = extraer_pregunta(question)\n",
    "    #    response = extract_question_from_text(response) \n",
    "    \n",
    "    # El asistente devuelve la repregunta\n",
    "    messages.append({\"role\": \"assistant\", \"content\": clean_text(response)})\n",
    "\n",
    "    #v_response = response.split(\"|\")\n",
    "    # devuelve si necesita clarificar y la respuesta del asistente\n",
    "    \n",
    "    #return clarification_needed, v_response[len(v_response)-1]\n",
    "    return clarification_needed, clean_text(response)"
   ]
  },
  {
   "cell_type": "code",
   "execution_count": 10,
   "metadata": {},
   "outputs": [],
   "source": [
    "# Función para la evaluacion de dimensiones\n",
    "def evaluate_dimensions(json_dialogue):\n",
    "    global total_tokens_used, messages, response_seconds\n",
    "    json_str = list_to_json(json_dialogue)\n",
    "\n",
    "    sys_prompt = f\"\"\"Eres un reclutador y debes evaluar la idoneidad de un candidato para el puesto de {puesto}. Las tareas del puesto son: \n",
    "    {tareas}. \n",
    "    Ignora: raza, color, género, religión, nacionalidad.\"\"\"\n",
    "\n",
    "    usr_prompt = f\"\"\"[Basándote en la siguiente conversación en formato JSON entre el entrevistador y el candidato:\n",
    "[Inicio de conversación]\n",
    "{json_str}\n",
    "[Fin de conversación]\n",
    "Debes evaluar la idoneidad de este candidato para el puesto de {puesto} considerando las dimensiones mencionadas en la conversación de la siguiente manera:\n",
    "\n",
    "A) Genera una sola respuesta en formato JSON de la siguiente manera:\n",
    "[{{\"Dimension\": \"[dimensión mencionada en la conversación]\", \"Calificacion\": [calificación], \"Evaluacion\": \"[resumen de la evaluación]\"}}]\n",
    "\n",
    "B) Completa el valor del atributo \"Calificación\" del JSON anterior con una calificación muy exigente de 1 a 5, basada en los siguientes criterios:\n",
    "  1 = Pésimo candidato: No cumple con los requisitos básicos del puesto, sin ejemplos concretos, muestra falta total de experiencia y habilidades para la dimensión en cuestión. No se sabe expresar, comete muchas faltas de ortografía o no responde a la pregunta realizada sobre la dimensión.\n",
    "  2 = Deficiente candidato: Cumple con algunos requisitos mínimos pero tiene varias áreas de mejora significativas en la dimensión en cuestión. Su respuesta es incompleta y no responde con asertividad o de forma directa a la pregunta realizada sobre la dimensión.\n",
    "  3 = Candidato aceptable: Cumple con la mayoría de los requisitos, tiene habilidades adecuadas en la dimensión en cuestión, pero puede mejorar en algunos aspectos. Su respuesta no precisa detalles sobre la dimensión y parece exagerada.\n",
    "  4 = Buen candidato: Cumple y supera la mayoría de los requisitos, demuestra habilidades sólidas en la dimensión en cuestión, con pocas áreas de mejora. Su respuesta es clara y brinda ejemplos concretos sobre la dimensión.\n",
    "  5 = Excelente candidato: Cumple todos los requisitos, demuestra habilidades excelentemente calificadas y mucha capacidad en la dimensión en cuestión, sin áreas de mejora significativas. Su respuesta es sobresaliente, brinda ejemplos bien concretos relacionados a la pregunta realizada, sin divagar ni alucinar sobre la dimensión, demostrando su gran capacidad.\n",
    " La pésima ortografía es motivo de calificación máxima 2.\n",
    " Respuestas muy buenas pero divagantes deben tener una calificación máxima de 3.\n",
    " Respuestas breves de menos de 10 palabras que contengan palabras iguales o similares a: 'excelente', 'muy bueno', 'mucha experiencia', o solo una afirmación sin detalles es una calificación de 1.\n",
    " Respuestas vacías o que no responden a la pregunta es una calificación de 1.\n",
    "C) Completa el valor del atributo \"Evaluacion\" del JSON anterior con un resumen de evaluación del candidato en menos de 60 palabras, resaltando aspectos positivos y negativos que consideres.\n",
    "D) El formato de salida de tu respuesta debe ser únicamente en el formato JSON anterior. No respondas en otro formato ni hagas comentarios adicionales por fuera de ese formato JSON.\n",
    "\"\"\"\n",
    "    \n",
    "    messages = [{\"role\": \"system\", \"content\": clean_text(sys_prompt)}]  # El sistema configura el contexto inicial\n",
    "    messages.append({\"role\": \"user\", \"content\": clean_text(usr_prompt)}) # Genera el user prompt\n",
    "    # ejecuta el modelo\n",
    "    response, total_tokens_used, response_seconds = chat_with_model(messages, model, temperature, max_tokens)\n",
    "    messages.append({\"role\": \"assistant\", \"content\": clean_text(response)}) # El asistente devuelve la respuesta\n",
    "    #print(\"evaluate_dimensions + response = \"+response+\"\\n\")\n",
    "    # convierte respuesta json en lista\n",
    "    json_response = json_to_list(response, \"[]\")\n",
    "    # extrae solo json\n",
    "    #json_response = extract_text_between_characters(json_response, characters=\"[]\")\n",
    "    \n",
    "    return json_response, total_tokens_used\n"
   ]
  },
  {
   "cell_type": "code",
   "execution_count": 11,
   "metadata": {},
   "outputs": [],
   "source": [
    "# Función para la evaluacion final\n",
    "def evaluate_final(json_evaluation):\n",
    "    global total_tokens_used, messages, response_seconds\n",
    "    json_str = list_to_json(json_evaluation)\n",
    "    sys_prompt = f\"\"\"Eres un reclutador y debes evaluar la idoneidad de un candidato para el puesto de {puesto}. \n",
    "    Ignora: raza, color, género, religión, nacionalidad.\"\"\"\n",
    "    usr_prompt = f\"\"\"Basándote en la siguiente evaluación del candidato en formato JSON que se realizó previamente: \n",
    "        [Inicio de evaluación]\n",
    "        {json_str}\n",
    "        [Fin de evaluación]\n",
    "        Debes generar la respuesta únicamente en formato JSON de la siguiente manera: \n",
    "        {{\"Dimension\": \"Evaluación Final\", \"Calificacion\": [Obtener el promedio de todas las Calificaciones, solo el número resultante.], \n",
    "        \"Evaluacion\": \"[Generar un resumen general de las evaluaciones de todas las dimensiones mencionadas en menos de 100 palabras, \n",
    "        incluyendo aspectos positivos y negativos para evaluar la idoneidad de este candidato para el puesto de {puesto}. No menciones \n",
    "        el número de calificación, solo genera el resumen.]\"}}\"\"\"\n",
    "    # El sistema configura el contexto inicial\n",
    "    messages = [{\"role\": \"system\", \"content\": clean_text(sys_prompt)}] \n",
    "    # Genera el user prompt\n",
    "    messages.append({\"role\": \"user\", \"content\": clean_text(usr_prompt)})\n",
    "    # ejecuta el modelo\n",
    "    response, total_tokens_used, response_seconds = chat_with_model(messages, model, temperature, max_tokens)\n",
    "    messages.append({\"role\": \"assistant\", \"content\": clean_text(response)}) # El asistente devuelve la respuesta\n",
    "    #print(\"evaluate_final + response = \"+response+\"\\n\")\n",
    "    # convierte respuesta json en lista\n",
    "    json_response = json_to_list(response, \"{}\")\n",
    "    # extrae solo json\n",
    "    #json_response = extract_text_between_characters(json_response, characters=\"{}\")\n",
    "    \n",
    "    return json_response, total_tokens_used\n"
   ]
  },
  {
   "cell_type": "code",
   "execution_count": 12,
   "metadata": {},
   "outputs": [],
   "source": [
    "def interview():\n",
    "    global dialogo_entrevista, messages, total_response_seconds, avg_response_seconds, token\n",
    "    iteraciones = 0\n",
    "    \n",
    "    # crea el system prompt\n",
    "    messages = create_system_prompt(prompt_system_entrevistas)\n",
    "    \n",
    "    # Cargar json dimensiones en una lista\n",
    "    data_dimensiones = json_to_list(json_dimensiones)\n",
    "\n",
    "    #genera token\n",
    "    token = generateTokenIBM(api_key)\n",
    "\n",
    "    # rondas de preguntas por dimensión\n",
    "    for item in data_dimensiones:\n",
    "        dimension = item['dimension']\n",
    "        prompt_dimension = item['prompt']\n",
    "        prompt_dimension = clean_text(prompt_dimension) # limpia textos\n",
    "        \n",
    "        # genera pregunta\n",
    "        question = generate_question(messages, prompt_dimension)\n",
    "        question_extracted = extraer_pregunta(question) # extrae solo la pregunta x si hay algún comentario\n",
    "        print(f\"\\nPregunta del entrevistador: {question_extracted}\")\n",
    "\n",
    "        total_response_seconds = total_response_seconds + response_seconds\n",
    "        iteraciones = iteraciones + 1\n",
    "        \n",
    "        # Respuesta del candidato\n",
    "        answer = input(\"Respuesta del candidato: \")\n",
    "        answer = clean_text(answer) # limpia textos\n",
    "        \n",
    "        # Log conversacion\n",
    "        dialogo_entrevista.append({\"dimension\": dimension, \"Pregunta del entrevistador\": question_extracted, \"Respuesta del candidato\": answer})\n",
    "        \n",
    "        # Repregunta según respuesta\n",
    "        b_repregunta, s_repregunta = evaluate_response(messages, question, answer)\n",
    "        \n",
    "        # si tiene que repreguntar\n",
    "        if b_repregunta:\n",
    "            # Pregunta de seguimiento\n",
    "            requestion_extracted = extraer_pregunta(s_repregunta) # extrae solo la pregunta x si hay algún comentario\n",
    "            print(f\"Repregunta del entrevistador: {requestion_extracted}\")\n",
    "            # Respuesta del candidato\n",
    "            answer = input(\"Respuesta del candidato: \")\n",
    "            answer = clean_text(answer) # limpia textos\n",
    "            # Log conversacion\n",
    "            dialogo_entrevista.append({\"dimension\": dimension, \"Pregunta del entrevistador\": requestion_extracted, \"Respuesta del candidato\": answer})\n",
    "\n",
    "    avg_response_seconds = round((total_response_seconds / iteraciones), 2)\n",
    "\n",
    "    return messages"
   ]
  },
  {
   "cell_type": "markdown",
   "metadata": {},
   "source": [
    "## ENTREVISTA"
   ]
  },
  {
   "cell_type": "code",
   "execution_count": 13,
   "metadata": {},
   "outputs": [
    {
     "name": "stdout",
     "output_type": "stream",
     "text": [
      "\n",
      "Pregunta del entrevistador: ¿Cuál ha sido tu experiencia en realizar cierres y arqueos de caja al final del turno?\n"
     ]
    },
    {
     "name": "stdin",
     "output_type": "stream",
     "text": [
      "Respuesta del candidato:  buena experiencia\n"
     ]
    },
    {
     "name": "stdout",
     "output_type": "stream",
     "text": [
      "Repregunta del entrevistador: ¿Podrías contarme sobre una situación en la que hayas realizado un cierre y arqueo de caja al final de tu turno?\n"
     ]
    },
    {
     "name": "stdin",
     "output_type": "stream",
     "text": [
      "Respuesta del candidato:  todos los días hacía el arqueo de caja ante cambios de turno contabilizando los billetes y llenando la planilla de informes de caja\n"
     ]
    },
    {
     "name": "stdout",
     "output_type": "stream",
     "text": [
      "\n",
      "Pregunta del entrevistador: ¿Cómo gestionaste alguna vez una devolución o cambio de producto solicitado por un cliente?\n"
     ]
    },
    {
     "name": "stdin",
     "output_type": "stream",
     "text": [
      "Respuesta del candidato:  verificaba que el estado del producto no haya sido modificado y luego si estaba ok lo registraba en la caja como cambio de producto\n"
     ]
    },
    {
     "name": "stdout",
     "output_type": "stream",
     "text": [
      "Repregunta del entrevistador: ¿Cómo abordas las consultas de los clientes sobre precios y promociones vigentes?\n"
     ]
    },
    {
     "name": "stdin",
     "output_type": "stream",
     "text": [
      "Respuesta del candidato:  les comento la promoción del día por si la quieren aprovechar\n"
     ]
    },
    {
     "name": "stdout",
     "output_type": "stream",
     "text": [
      "\n",
      "Pregunta del entrevistador: ¿Puedes compartir un ejemplo de cómo manejaste un conflicto con un cliente en el pasado?\n"
     ]
    },
    {
     "name": "stdin",
     "output_type": "stream",
     "text": [
      "Respuesta del candidato:  una vez tuve que expulsar a un cliente de la tienda\n"
     ]
    },
    {
     "name": "stdout",
     "output_type": "stream",
     "text": [
      "Repregunta del entrevistador: ¿Podrías describirme cómo te acercaste al cliente, cuál fue tu primera acción y qué pasos seguiste después para resolver la situación?\n"
     ]
    },
    {
     "name": "stdin",
     "output_type": "stream",
     "text": [
      "Respuesta del candidato:  la persona estaba alcoholizada y agresiva, lo invité a retirarse y llamé a seguridad\n"
     ]
    },
    {
     "name": "stdout",
     "output_type": "stream",
     "text": [
      "\n",
      "Pregunta del entrevistador: ¿Podrías darme un ejemplo de cómo has empleado habilidades de comunicación clara y precisa con un cliente al explicarle sobre la ubicación de un producto o las promociones vigentes?\n"
     ]
    },
    {
     "name": "stdin",
     "output_type": "stream",
     "text": [
      "Respuesta del candidato:  explico al cliente donde están los productos en góndola y si hay una promoción se la hago saber\n"
     ]
    },
    {
     "name": "stdout",
     "output_type": "stream",
     "text": [
      "Repregunta del entrevistador: ¿Podrías darnos un caso práctico en el que hayas detectado preocupaciones o necesidades de un cliente incluso antes de que este verbalizara dichas demandas?\n"
     ]
    },
    {
     "name": "stdin",
     "output_type": "stream",
     "text": [
      "Respuesta del candidato:  a veces el cliente se acerca a la caja para preguntar y yo les indico, otras veces si les noto cara de preocupación, les pregunto cual es su inquietud en forma amigable\n"
     ]
    }
   ],
   "source": [
    "resultado = interview()"
   ]
  },
  {
   "cell_type": "code",
   "execution_count": 14,
   "metadata": {},
   "outputs": [
    {
     "name": "stdout",
     "output_type": "stream",
     "text": [
      "total_tokens_used: 3072 - avg_response_seconds: 6.44\n"
     ]
    }
   ],
   "source": [
    "print(f\"total_tokens_used: {total_tokens_used} - avg_response_seconds: {avg_response_seconds}\")"
   ]
  },
  {
   "cell_type": "code",
   "execution_count": 15,
   "metadata": {},
   "outputs": [
    {
     "data": {
      "text/plain": [
       "'<s> [INST] Eres un reclutador entrevistando a un candidato para el puesto de Cajero Polivalente de supermercado en Argentina. Tu objetivo es hacer preguntas al candidato sobre las tareas del puesto para evaluar su aptitud. Las tareas del Cajero Polivalente son: - Atender a los clientes en la caja registradora.- Recibir pagos con distintos medios de pago. - Escanear y registrar productos. - Realizar cierres y arqueos de caja al final del turno. - Asistir a los clientes sobre precios, promociones y ubicación de productos. - Mantener la caja registradora organizada. - Abrir y cerrar la caja registradora con responsabilidad. - Verificar y contar la cantidad de billetes en la caja registradora. - Verificar precios y promociones vigentes. - Gestionar devoluciones y cambios de productos. - Proporcionar información sobre productos y servicios de la tienda. - Colaborar con el equipo de seguridad para evitar robos. - Brindar un servicio amigable y eficiente a los clientes. - Manejar reclamos y quejas de los clientes de manera adecuada. - Asistir en la capacitación de nuevos empleados. - Informar a los supervisores sobre discrepancias en el inventario. Ignora: raza, color, género, religión, nacionalidad. \\n Sigue las siguientes instrucciones, reglas estrictas y ejemplos. Instrucciones: - Genera una pregunta directa y comprensible para un adolescente, de menos de 30 palabras, sobre la EXPERIENCIA del candidato en relación a alguna de las tareas mencionadas del Cajero Polivalente; y solicita que ejemplifique. Reglas: - La pregunta No debe incluir temas como: atención al cliente, manejo de conflictos y habilidades de comunicación. - Usa una de estas palabras para comenzar la pregunta: qué, cómo, cuándo, por qué, dónde, quién, cuál, cuáles, quiero saber, en qué, de qué manera, hasta qué punto, con qué, qué tan, cómo describirías, qué piensas de. - No uses \\'podrías\\' ni \\'puedes\\' al inicio de la pregunta. - No saludes, no te disculpes, no justifiques, no realices comentarios y no pongas número de pregunta, solo genera la simple pregunta. - El formato de salida debe ser solo de esta manera: \\'¿[pregunta]?\\' Ejemplo: ¿Qué experiencia tienes en mantener la caja registradora organizada? [/INST] ¿Cuál ha sido tu experiencia en realizar cierres y arqueos de caja al final del turno?</s>  [INST] Respuesta del candidato: \\'buena experiencia\\'. En base a la respuesta del candidato, tú como entrevistador sigue las siguientes instrucciones. Instrucciones: - Si el candidato no comprende la pregunta: reformula la pregunta anterior de forma más comprensible y más directa, no agregues comentarios adicionales, solo genera la simple pregunta. - Si la respuesta es incompleta, o no brinda detalles claros, o es solo una afirmación o negación sin detalles ni ejemplos: genera otra pregunta con lenguaje comprensible y directo para que el candidato brinde mayor información sobre su respuesta anterior, no agregues comentarios adicionales, solo genera la simple pregunta. - Si la respuesta expresa no saber o no tener experiencia en el área: responde solamente \"(No sabe)\". - Si la respuesta es clara y brinda detalles: responde solamente \"(Responde bien)\". [/INST] ¡Gracias por tu respuesta! Para poder evaluar mejor tu aptitud, me gustaría conocer algunos detalles específicos sobre tu experiencia. ¿Podrías contarme sobre una situación en la que hayas realizado un cierre y arqueo de caja al final de tu turno?</s>  [INST] Ignora la pregunta anterior, ahora continúa con las siguientes instrucciones, reglas estrictas y ejemplos. Instrucciones: - Genera otra pregunta directa y comprensible para un adolescente, de menos de 30 palabras, sobre la ATENCIÓN AL CLIENTE en relación a alguna tarea del puesto, distinta a la preguntada anteriormente; y solicita que ejemplifique. Reglas: - La pregunta no debe ser sobre manejo de conflictos ni habilidades de comunicación. - No uses \\'podrías\\' ni \\'puedes\\' al inicio de la pregunta. - No saludes, no te disculpes, no justifiques, no realices comentarios y no pongas número de pregunta, solo genera la simple pregunta. - El formato de salida debe ser solo de esta manera: \\'¿[pregunta]?\\' Ejemplo: ¿Cómo respondes a los clientes cuando te solicitan información de algún producto? [/INST] ¿Cómo gestionaste alguna vez una devolución o cambio de producto solicitado por un cliente?</s>  [INST] Respuesta del candidato: \\'verificaba que el estado del producto no haya sido modificado y luego si estaba ok lo registraba en la caja como cambio de producto\\'. En base a la respuesta del candidato, tú como entrevistador sigue las siguientes instrucciones. Instrucciones: - Si el candidato no comprende la pregunta: reformula la pregunta anterior de forma más comprensible y más directa, no agregues comentarios adicionales, solo genera la simple pregunta. - Si la respuesta es incompleta, o no brinda detalles claros, o es solo una afirmación o negación sin detalles ni ejemplos: genera otra pregunta con lenguaje comprensible y directo para que el candidato brinde mayor información sobre su respuesta anterior, no agregues comentarios adicionales, solo genera la simple pregunta. - Si la respuesta expresa no saber o no tener experiencia en el área: responde solamente \"(No sabe)\". - Si la respuesta es clara y brinda detalles: responde solamente \"(Responde bien)\". [/INST] ¡Muchas gracias por tu detallada respuesta! Has demostrado un buen entendimiento de la tarea. Continuemos con esta nueva pregunta: ¿Cómo abordas las consultas de los clientes sobre precios y promociones vigentes?</s>  [INST] Ignora la pregunta anterior, ahora continúa con las siguientes instrucciones, reglas estrictas y ejemplos. Instrucciones: - Genera otra pregunta simple, directa y comprensible para un adolescente, de menos de 30 palabras, sobre el MANEJO DE CONFLICTOS con algún cliente en el supermercado; y solicita que brinde algún ejemplo. Reglas: - La pregunta no debe ser sobre atención al cliente ni habilidades de comunicación. - No uses \\'podrías\\' ni \\'puedes\\' al inicio de la pregunta. - No saludes, no te disculpes, no justifiques, no realices comentarios y no pongas número de pregunta, solo genera la simple pregunta. - El formato de salida debe ser solo de esta manera: \\'¿[pregunta]?\\' Ejemplo: ¿Qué estrategias utilizas para resolver alguna situación complicada con un cliente? [/INST] ¿Puedes compartir un ejemplo de cómo manejaste un conflicto con un cliente en el pasado?</s>  [INST] Respuesta del candidato: \\'una vez tuve que expulsar a un cliente de la tienda\\'. En base a la respuesta del candidato, tú como entrevistador sigue las siguientes instrucciones. Instrucciones: - Si el candidato no comprende la pregunta: reformula la pregunta anterior de forma más comprensible y más directa, no agregues comentarios adicionales, solo genera la simple pregunta. - Si la respuesta es incompleta, o no brinda detalles claros, o es solo una afirmación o negación sin detalles ni ejemplos: genera otra pregunta con lenguaje comprensible y directo para que el candidato brinde mayor información sobre su respuesta anterior, no agregues comentarios adicionales, solo genera la simple pregunta. - Si la respuesta expresa no saber o no tener experiencia en el área: responde solamente \"(No sabe)\". - Si la respuesta es clara y brinda detalles: responde solamente \"(Responde bien)\". [/INST] ¡Interesante! Quisiera saber más al respecto. ¿Podrías describirme cómo te acercaste al cliente, cuál fue tu primera acción y qué pasos seguiste después para resolver la situación?</s>  [INST] Ignora la pregunta anterior, ahora continúa con las siguientes instrucciones, reglas estrictas y ejemplos. Instrucciones: - Genera otra pregunta simple, directa y comprensible para un adolescente, de menos de 30 palabras, sobre la HABILIDAD DE COMUNICACIÓN en el supermercado, solicitandóle que brinde algún ejemplo concreto de alguna sobre estas habilidades: claridad en la comunicación, capacidad de expresarse de forma objetiva, clara y respetuosa, o capacidad de interpretar y utilizar señales no verbales. Reglas: - La pregunta no debe ser sobre manejo de conflictos. - No uses \\'podrías\\' ni \\'puedes\\' al inicio de la pregunta. - No saludes, no te disculpes, no justifiques, no realices comentarios y no pongas número de pregunta, solo genera la simple pregunta. - El formato de salida debe ser solo de esta manera: \\'¿[pregunta]?\\' Ejemplo: ¿Cuáles son tus habilidades de comunicación con los clientes para satisfacer sus necesidades? [/INST] ¿Podrías darme un ejemplo de cómo has empleado habilidades de comunicación clara y precisa con un cliente al explicarle sobre la ubicación de un producto o las promociones vigentes?</s>  [INST] Respuesta del candidato: \\'explico al cliente donde están los productos en góndola y si hay una promoción se la hago saber\\'. En base a la respuesta del candidato, tú como entrevistador sigue las siguientes instrucciones. Instrucciones: - Si el candidato no comprende la pregunta: reformula la pregunta anterior de forma más comprensible y más directa, no agregues comentarios adicionales, solo genera la simple pregunta. - Si la respuesta es incompleta, o no brinda detalles claros, o es solo una afirmación o negación sin detalles ni ejemplos: genera otra pregunta con lenguaje comprensible y directo para que el candidato brinde mayor información sobre su respuesta anterior, no agregues comentarios adicionales, solo genera la simple pregunta. - Si la respuesta expresa no saber o no tener experiencia en el área: responde solamente \"(No sabe)\". - Si la respuesta es clara y brinda detalles: responde solamente \"(Responde bien)\". [/INST] ¡Excelente! Eso demuestra una gran claridad en tus habilidades de comunicación. Por favor, comparte un ejemplo adicional en el que hayas utilizado habilidades de interpretación de señales no verbales (lenguaje corporal u otros indicadores visuales) durante una interacción con un cliente. ¿Podrías darnos un caso práctico en el que hayas detectado preocupaciones o necesidades de un cliente incluso antes de que este verbalizara dichas demandas?</s> '"
      ]
     },
     "execution_count": 15,
     "metadata": {},
     "output_type": "execute_result"
    }
   ],
   "source": [
    "prompt = mixtral_array2string(messages) # convierte array de prompts a string mixtral\n",
    "prompt"
   ]
  },
  {
   "cell_type": "code",
   "execution_count": 16,
   "metadata": {},
   "outputs": [],
   "source": [
    "#resultado"
   ]
  },
  {
   "cell_type": "code",
   "execution_count": 17,
   "metadata": {},
   "outputs": [
    {
     "data": {
      "text/plain": [
       "[{'dimension': 'experiencia',\n",
       "  'Pregunta del entrevistador': '¿Cuál ha sido tu experiencia en realizar cierres y arqueos de caja al final del turno?',\n",
       "  'Respuesta del candidato': 'buena experiencia'},\n",
       " {'dimension': 'experiencia',\n",
       "  'Pregunta del entrevistador': '¿Podrías contarme sobre una situación en la que hayas realizado un cierre y arqueo de caja al final de tu turno?',\n",
       "  'Respuesta del candidato': 'todos los días hacía el arqueo de caja ante cambios de turno contabilizando los billetes y llenando la planilla de informes de caja'},\n",
       " {'dimension': 'atención al cliente',\n",
       "  'Pregunta del entrevistador': '¿Cómo gestionaste alguna vez una devolución o cambio de producto solicitado por un cliente?',\n",
       "  'Respuesta del candidato': 'verificaba que el estado del producto no haya sido modificado y luego si estaba ok lo registraba en la caja como cambio de producto'},\n",
       " {'dimension': 'atención al cliente',\n",
       "  'Pregunta del entrevistador': '¿Cómo abordas las consultas de los clientes sobre precios y promociones vigentes?',\n",
       "  'Respuesta del candidato': 'les comento la promoción del día por si la quieren aprovechar'},\n",
       " {'dimension': 'manejo de conflicto',\n",
       "  'Pregunta del entrevistador': '¿Puedes compartir un ejemplo de cómo manejaste un conflicto con un cliente en el pasado?',\n",
       "  'Respuesta del candidato': 'una vez tuve que expulsar a un cliente de la tienda'},\n",
       " {'dimension': 'manejo de conflicto',\n",
       "  'Pregunta del entrevistador': '¿Podrías describirme cómo te acercaste al cliente, cuál fue tu primera acción y qué pasos seguiste después para resolver la situación?',\n",
       "  'Respuesta del candidato': 'la persona estaba alcoholizada y agresiva, lo invité a retirarse y llamé a seguridad'},\n",
       " {'dimension': 'habilidad de comunicación',\n",
       "  'Pregunta del entrevistador': '¿Podrías darme un ejemplo de cómo has empleado habilidades de comunicación clara y precisa con un cliente al explicarle sobre la ubicación de un producto o las promociones vigentes?',\n",
       "  'Respuesta del candidato': 'explico al cliente donde están los productos en góndola y si hay una promoción se la hago saber'},\n",
       " {'dimension': 'habilidad de comunicación',\n",
       "  'Pregunta del entrevistador': '¿Podrías darnos un caso práctico en el que hayas detectado preocupaciones o necesidades de un cliente incluso antes de que este verbalizara dichas demandas?',\n",
       "  'Respuesta del candidato': 'a veces el cliente se acerca a la caja para preguntar y yo les indico, otras veces si les noto cara de preocupación, les pregunto cual es su inquietud en forma amigable'}]"
      ]
     },
     "execution_count": 17,
     "metadata": {},
     "output_type": "execute_result"
    }
   ],
   "source": [
    "dialogo_entrevista"
   ]
  },
  {
   "cell_type": "markdown",
   "metadata": {},
   "source": [
    "## EVALUACION X DIMENSION"
   ]
  },
  {
   "cell_type": "code",
   "execution_count": 18,
   "metadata": {},
   "outputs": [
    {
     "data": {
      "text/plain": [
       "[{'Dimension': 'experiencia',\n",
       "  'Calificacion': 4,\n",
       "  'Evaluacion': 'El candidato demuestra tener una buena experiencia en realizar cierres y arqueos de caja, proporciona ejemplos concretos y específicos de su experiencia previa en esta área.'},\n",
       " {'Dimension': 'atención al cliente',\n",
       "  'Calificacion': 3,\n",
       "  'Evaluacion': 'El candidato tiene habilidades adecuadas en atención al cliente, aunque podría mejorar en proporcionar más detalles sobre cómo gestiona las consultas de los clientes sobre precios y promociones.'},\n",
       " {'Dimension': 'manejo de conflicto',\n",
       "  'Calificacion': 2,\n",
       "  'Evaluacion': 'El candidato ha tenido experiencias en el manejo de conflictos con clientes, pero su respuesta carece de detalles sobre cómo abordó la situación y cómo la resolvió.'},\n",
       " {'Dimension': 'habilidad de comunicación',\n",
       "  'Calificacion': 4,\n",
       "  'Evaluacion': 'El candidato demuestra habilidades sólidas en comunicación clara y precisa, proporciona ejemplos concretos y relevantes sobre cómo emplea sus habilidades de comunicación con los clientes.'}]"
      ]
     },
     "execution_count": 18,
     "metadata": {},
     "output_type": "execute_result"
    }
   ],
   "source": [
    "# Evalúa las dimensiones\n",
    "max_tokens = 4096\n",
    "evaluacion_dimensiones, total_tokens_used = evaluate_dimensions(dialogo_entrevista)\n",
    "evaluacion_dimensiones"
   ]
  },
  {
   "cell_type": "code",
   "execution_count": 19,
   "metadata": {},
   "outputs": [
    {
     "name": "stdout",
     "output_type": "stream",
     "text": [
      "total_tokens_used: 2297\n"
     ]
    }
   ],
   "source": [
    "print(f\"total_tokens_used: {total_tokens_used}\")"
   ]
  },
  {
   "cell_type": "code",
   "execution_count": 20,
   "metadata": {},
   "outputs": [],
   "source": [
    "#prompt = mixtral_array2string(messages) # convierte array de prompts a string mixtral\n",
    "#prompt"
   ]
  },
  {
   "cell_type": "markdown",
   "metadata": {},
   "source": [
    "## EVALUACION FINAL"
   ]
  },
  {
   "cell_type": "code",
   "execution_count": 21,
   "metadata": {},
   "outputs": [
    {
     "data": {
      "text/plain": [
       "{'Dimension': 'Evaluación Final',\n",
       " 'Calificacion': 3.5,\n",
       " 'Evaluacion': 'El candidato tiene una buena experiencia en cierres y arqueos de caja, demostrando habilidades sólidas en comunicación. Sin embargo, hay margen de mejora en la descripción de cómo gestiona consultas de clientes sobre precios y promociones, así como en la provisión de detalles sobre el manejo de conflictos.'}"
      ]
     },
     "execution_count": 21,
     "metadata": {},
     "output_type": "execute_result"
    }
   ],
   "source": [
    "# Evaluación final\n",
    "max_tokens = 4096\n",
    "evaluacion_final, total_tokens_used = evaluate_final(evaluacion_dimensiones)\n",
    "evaluacion_final"
   ]
  },
  {
   "cell_type": "code",
   "execution_count": 22,
   "metadata": {},
   "outputs": [
    {
     "name": "stdout",
     "output_type": "stream",
     "text": [
      "total_tokens_used: 690\n"
     ]
    }
   ],
   "source": [
    "print(f\"total_tokens_used: {total_tokens_used}\")"
   ]
  },
  {
   "cell_type": "code",
   "execution_count": 23,
   "metadata": {},
   "outputs": [],
   "source": [
    "#prompt = mixtral_array2string(messages) # convierte array de prompts a string mixtral\n",
    "#prompt"
   ]
  },
  {
   "cell_type": "code",
   "execution_count": 24,
   "metadata": {},
   "outputs": [],
   "source": [
    "#messages"
   ]
  },
  {
   "cell_type": "code",
   "execution_count": 25,
   "metadata": {},
   "outputs": [],
   "source": [
    "#genera token\n",
    "#token = generateTokenIBM(api_key)"
   ]
  }
 ],
 "metadata": {
  "kernelspec": {
   "display_name": "Python 3 (ipykernel)",
   "language": "python",
   "name": "python3"
  },
  "language_info": {
   "codemirror_mode": {
    "name": "ipython",
    "version": 3
   },
   "file_extension": ".py",
   "mimetype": "text/x-python",
   "name": "python",
   "nbconvert_exporter": "python",
   "pygments_lexer": "ipython3",
   "version": "3.12.7"
  }
 },
 "nbformat": 4,
 "nbformat_minor": 4
}
