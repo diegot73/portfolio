{
 "cells": [
  {
   "cell_type": "markdown",
   "metadata": {},
   "source": [
    "You can download the `requirements.txt` for this course from the workspace of this lab. `File --> Open...`"
   ]
  },
  {
   "cell_type": "markdown",
   "metadata": {},
   "source": [
    "# L2: Create Agents to Research and Write an Article\n",
    "\n",
    "In this lesson, you will be introduced to the foundational concepts of multi-agent systems and get an overview of the crewAI framework."
   ]
  },
  {
   "cell_type": "markdown",
   "metadata": {},
   "source": [
    "The libraries are already installed in the classroom. If you're running this notebook on your own machine, you can install the following:\n",
    "```Python\n",
    "!pip install crewai==0.28.8 crewai_tools==0.1.6 langchain_community==0.0.29\n",
    "```"
   ]
  },
  {
   "cell_type": "code",
   "execution_count": 15,
   "metadata": {
    "height": 64
   },
   "outputs": [],
   "source": [
    "# Warning control\n",
    "import warnings\n",
    "warnings.filterwarnings('ignore')"
   ]
  },
  {
   "cell_type": "markdown",
   "metadata": {},
   "source": [
    "- Import from the crewAI libray."
   ]
  },
  {
   "cell_type": "code",
   "execution_count": 16,
   "metadata": {
    "height": 30
   },
   "outputs": [],
   "source": [
    "from crewai import Agent, Task, Crew"
   ]
  },
  {
   "cell_type": "markdown",
   "metadata": {},
   "source": [
    "- As a LLM for your agents, you'll be using OpenAI's `gpt-3.5-turbo`.\n",
    "\n",
    "**Optional Note:** crewAI also allow other popular models to be used as a LLM for your Agents. You can see some of the examples at the [bottom of the notebook](#1)."
   ]
  },
  {
   "cell_type": "code",
   "execution_count": 17,
   "metadata": {
    "height": 98
   },
   "outputs": [],
   "source": [
    "import os\n",
    "from utils import get_openai_api_key\n",
    "\n",
    "openai_api_key = get_openai_api_key()\n",
    "os.environ[\"OPENAI_MODEL_NAME\"] = 'gpt-3.5-turbo'"
   ]
  },
  {
   "cell_type": "markdown",
   "metadata": {},
   "source": [
    "## Creating Agents\n",
    "\n",
    "- Define your Agents, and provide them a `role`, `goal` and `backstory`.\n",
    "- It has been seen that LLMs perform better when they are role playing."
   ]
  },
  {
   "cell_type": "markdown",
   "metadata": {},
   "source": [
    "### Agent: Planner\n",
    "\n",
    "**Note**: The benefit of using _multiple strings_ :\n",
    "```Python\n",
    "varname = \"line 1 of text\"\n",
    "          \"line 2 of text\"\n",
    "```\n",
    "\n",
    "versus the _triple quote docstring_:\n",
    "```Python\n",
    "varname = \"\"\"line 1 of text\n",
    "             line 2 of text\n",
    "          \"\"\"\n",
    "```\n",
    "is that it can avoid adding those whitespaces and newline characters, making it better formatted to be passed to the LLM."
   ]
  },
  {
   "cell_type": "code",
   "execution_count": 18,
   "metadata": {
    "height": 234
   },
   "outputs": [],
   "source": [
    "planner = Agent(\n",
    "    role=\"Content Planner\",\n",
    "    goal=\"Plan engaging and factually accurate content on {topic}\",\n",
    "    backstory=\"You're working on planning a blog article \"\n",
    "              \"about the topic: {topic}.\"\n",
    "              \"You collect information that helps the \"\n",
    "              \"audience learn something \"\n",
    "              \"and make informed decisions. \"\n",
    "              \"Your work is the basis for \"\n",
    "              \"the Content Writer to write an article on this topic.\",\n",
    "    allow_delegation=False,\n",
    "\tverbose=True\n",
    ")"
   ]
  },
  {
   "cell_type": "markdown",
   "metadata": {},
   "source": [
    "### Agent: Writer"
   ]
  },
  {
   "cell_type": "code",
   "execution_count": 19,
   "metadata": {
    "height": 370
   },
   "outputs": [],
   "source": [
    "writer = Agent(\n",
    "    role=\"Content Writer\",\n",
    "    goal=\"Write insightful and factually accurate \"\n",
    "         \"opinion piece about the topic: {topic}\",\n",
    "    backstory=\"You're working on a writing \"\n",
    "              \"a new opinion piece about the topic: {topic}. \"\n",
    "              \"You base your writing on the work of \"\n",
    "              \"the Content Planner, who provides an outline \"\n",
    "              \"and relevant context about the topic. \"\n",
    "              \"You follow the main objectives and \"\n",
    "              \"direction of the outline, \"\n",
    "              \"as provide by the Content Planner. \"\n",
    "              \"You also provide objective and impartial insights \"\n",
    "              \"and back them up with information \"\n",
    "              \"provide by the Content Planner. \"\n",
    "              \"You acknowledge in your opinion piece \"\n",
    "              \"when your statements are opinions \"\n",
    "              \"as opposed to objective statements.\",\n",
    "    allow_delegation=False,\n",
    "    verbose=True\n",
    ")"
   ]
  },
  {
   "cell_type": "markdown",
   "metadata": {},
   "source": [
    "### Agent: Editor"
   ]
  },
  {
   "cell_type": "code",
   "execution_count": 20,
   "metadata": {
    "height": 268
   },
   "outputs": [],
   "source": [
    "editor = Agent(\n",
    "    role=\"Editor\",\n",
    "    goal=\"Edit a given blog post to align with \"\n",
    "         \"the writing style of the organization. \",\n",
    "    backstory=\"You are an editor who receives a blog post \"\n",
    "              \"from the Content Writer. \"\n",
    "              \"Your goal is to review the blog post \"\n",
    "              \"to ensure that it follows journalistic best practices,\"\n",
    "              \"provides balanced viewpoints \"\n",
    "              \"when providing opinions or assertions, \"\n",
    "              \"and also avoids major controversial topics \"\n",
    "              \"or opinions when possible.\",\n",
    "    allow_delegation=False,\n",
    "    verbose=True\n",
    ")"
   ]
  },
  {
   "cell_type": "markdown",
   "metadata": {},
   "source": [
    "## Creating Tasks\n",
    "\n",
    "- Define your Tasks, and provide them a `description`, `expected_output` and `agent`."
   ]
  },
  {
   "cell_type": "markdown",
   "metadata": {},
   "source": [
    "### Task: Plan"
   ]
  },
  {
   "cell_type": "code",
   "execution_count": 21,
   "metadata": {
    "height": 268
   },
   "outputs": [],
   "source": [
    "plan = Task(\n",
    "    description=(\n",
    "        \"1. Prioritize the latest trends, key players, \"\n",
    "            \"and noteworthy news on {topic}.\\n\"\n",
    "        \"2. Identify the target audience, considering \"\n",
    "            \"their interests and pain points.\\n\"\n",
    "        \"3. Develop a detailed content outline including \"\n",
    "            \"an introduction, key points, and a call to action.\\n\"\n",
    "        \"4. Include SEO keywords and relevant data or sources.\"\n",
    "    ),\n",
    "    expected_output=\"A comprehensive content plan document \"\n",
    "        \"with an outline, audience analysis, \"\n",
    "        \"SEO keywords, and resources. The text should be in Spanish language.\",\n",
    "    agent=planner,\n",
    ")"
   ]
  },
  {
   "cell_type": "markdown",
   "metadata": {},
   "source": [
    "### Task: Write"
   ]
  },
  {
   "cell_type": "code",
   "execution_count": 22,
   "metadata": {
    "height": 319
   },
   "outputs": [],
   "source": [
    "write = Task(\n",
    "    description=(\n",
    "        \"1. Use the content plan to craft a compelling \"\n",
    "            \"blog post on {topic}.\\n\"\n",
    "        \"2. Incorporate SEO keywords naturally.\\n\"\n",
    "\t\t\"3. Sections/Subtitles are properly named \"\n",
    "            \"in an engaging manner.\\n\"\n",
    "        \"4. Ensure the post is structured with an \"\n",
    "            \"engaging introduction, insightful body, \"\n",
    "            \"and a summarizing conclusion.\\n\"\n",
    "        \"5. Proofread for grammatical errors and \"\n",
    "            \"alignment with the brand's voice.\\n\"\n",
    "    ),\n",
    "    expected_output=\"A well-written blog post \"\n",
    "        \"in markdown format, ready for publication, \"\n",
    "        \"each section should have 2 or 3 paragraphs. The text should be in Spanish language.\",\n",
    "    agent=writer,\n",
    ")"
   ]
  },
  {
   "cell_type": "markdown",
   "metadata": {},
   "source": [
    "### Task: Edit"
   ]
  },
  {
   "cell_type": "code",
   "execution_count": 23,
   "metadata": {
    "height": 166
   },
   "outputs": [],
   "source": [
    "edit = Task(\n",
    "    description=(\"Proofread the given blog post for \"\n",
    "                 \"grammatical errors and \"\n",
    "                 \"alignment with the brand's voice.\"),\n",
    "    expected_output=\"A well-written blog post in markdown format, \"\n",
    "                    \"ready for publication, \"\n",
    "                    \"each section should have 2 or 3 paragraphs. The text should be in Spanish language.\",\n",
    "    agent=editor\n",
    ")"
   ]
  },
  {
   "cell_type": "markdown",
   "metadata": {},
   "source": [
    "## Creating the Crew\n",
    "\n",
    "- Create your crew of Agents\n",
    "- Pass the tasks to be performed by those agents.\n",
    "    - **Note**: *For this simple example*, the tasks will be performed sequentially (i.e they are dependent on each other), so the _order_ of the task in the list _matters_.\n",
    "- `verbose=2` allows you to see all the logs of the execution. "
   ]
  },
  {
   "cell_type": "code",
   "execution_count": 24,
   "metadata": {
    "height": 98
   },
   "outputs": [
    {
     "name": "stderr",
     "output_type": "stream",
     "text": [
      "2024-12-10 04:24:29,286 - 140189941119872 - __init__.py-__init__:518 - WARNING: Overriding of current TracerProvider is not allowed\n"
     ]
    }
   ],
   "source": [
    "crew = Crew(\n",
    "    agents=[planner, writer, editor],\n",
    "    tasks=[plan, write, edit],\n",
    "    verbose=2\n",
    ")"
   ]
  },
  {
   "cell_type": "markdown",
   "metadata": {},
   "source": [
    "## Running the Crew"
   ]
  },
  {
   "cell_type": "markdown",
   "metadata": {},
   "source": [
    "**Note**: LLMs can provide different outputs for they same input, so what you get might be different than what you see in the video."
   ]
  },
  {
   "cell_type": "code",
   "execution_count": 25,
   "metadata": {
    "height": 30
   },
   "outputs": [
    {
     "name": "stdout",
     "output_type": "stream",
     "text": [
      "\u001b[1m\u001b[95m [DEBUG]: == Working Agent: Content Planner\u001b[00m\n",
      "\u001b[1m\u001b[95m [INFO]: == Starting Task: 1. Prioritize the latest trends, key players, and noteworthy news on Artificial Intelligence.\n",
      "2. Identify the target audience, considering their interests and pain points.\n",
      "3. Develop a detailed content outline including an introduction, key points, and a call to action.\n",
      "4. Include SEO keywords and relevant data or sources.\u001b[00m\n",
      "\n",
      "\n",
      "\u001b[1m> Entering new CrewAgentExecutor chain...\u001b[0m\n",
      "\u001b[32;1m\u001b[1;3mAhora puedo dar una respuesta excelente\n",
      "\n",
      "Final Answer: \n",
      "\n",
      "Plan de Contenido sobre Inteligencia Artificial\n",
      "\n",
      "Título: Descubriendo el Futuro: Tendencias, Jugadores Clave y Noticias Relevantes sobre la Inteligencia Artificial\n",
      "\n",
      "Introducción:\n",
      "En la era digital actual, la Inteligencia Artificial (IA) ha revolucionado la forma en que interactuamos con la tecnología. Desde asistentes virtuales hasta sistemas de recomendación, la IA está presente en nuestras vidas de diversas formas. En este artículo, exploraremos las últimas tendencias, los principales actores del mercado y las noticias destacadas en el campo de la IA.\n",
      "\n",
      "Puntos Clave:\n",
      "1. Últimas tendencias en Inteligencia Artificial:\n",
      "- Avances en el aprendizaje profundo y el procesamiento del lenguaje natural.\n",
      "- Aplicaciones de IA en sectores como la salud, el comercio electrónico y la automoción.\n",
      "- Desarrollo de IA ética y responsable.\n",
      "\n",
      "2. Jugadores clave en el mercado de la Inteligencia Artificial:\n",
      "- Empresas líderes en IA como Google, Amazon, y Microsoft.\n",
      "- Startups emergentes que están innovando en el campo de la IA.\n",
      "- Instituciones académicas y organizaciones sin fines de lucro dedicadas a la investigación en IA.\n",
      "\n",
      "3. Noticias relevantes sobre Inteligencia Artificial:\n",
      "- Avances recientes en IA que han impactado diferentes industrias.\n",
      "- Casos de uso exitosos de IA en el mundo real.\n",
      "- Eventos y conferencias relacionados con la IA que vale la pena seguir.\n",
      "\n",
      "Llamado a la Acción:\n",
      "¿Interesado en aprender más sobre la Inteligencia Artificial y cómo puede beneficiar a tu empresa o carrera? ¡Sigue nuestro blog para mantenerte actualizado sobre las últimas noticias y tendencias en IA!\n",
      "\n",
      "Público Objetivo:\n",
      "Nuestro público objetivo incluye a profesionales de la tecnología, emprendedores, estudiantes de informática y cualquier persona interesada en conocer más sobre la Inteligencia Artificial. Nuestros lectores buscan información precisa y actualizada sobre las últimas tendencias y desarrollos en el campo de la IA.\n",
      "\n",
      "Palabras Clave de SEO:\n",
      "- Inteligencia Artificial\n",
      "- Tendencias en IA\n",
      "- Jugadores clave en IA\n",
      "- Noticias de IA\n",
      "- Aplicaciones de IA\n",
      "\n",
      "Recursos:\n",
      "- Informes de investigación de empresas de análisis de mercado como Gartner y Forrester.\n",
      "- Artículos de noticias de sitios especializados en tecnología como TechCrunch y Wired.\n",
      "- Publicaciones académicas y estudios de caso sobre aplicaciones exitosas de IA en diferentes industrias.\u001b[0m\n",
      "\n",
      "\u001b[1m> Finished chain.\u001b[0m\n",
      "\u001b[1m\u001b[92m [DEBUG]: == [Content Planner] Task output: Plan de Contenido sobre Inteligencia Artificial\n",
      "\n",
      "Título: Descubriendo el Futuro: Tendencias, Jugadores Clave y Noticias Relevantes sobre la Inteligencia Artificial\n",
      "\n",
      "Introducción:\n",
      "En la era digital actual, la Inteligencia Artificial (IA) ha revolucionado la forma en que interactuamos con la tecnología. Desde asistentes virtuales hasta sistemas de recomendación, la IA está presente en nuestras vidas de diversas formas. En este artículo, exploraremos las últimas tendencias, los principales actores del mercado y las noticias destacadas en el campo de la IA.\n",
      "\n",
      "Puntos Clave:\n",
      "1. Últimas tendencias en Inteligencia Artificial:\n",
      "- Avances en el aprendizaje profundo y el procesamiento del lenguaje natural.\n",
      "- Aplicaciones de IA en sectores como la salud, el comercio electrónico y la automoción.\n",
      "- Desarrollo de IA ética y responsable.\n",
      "\n",
      "2. Jugadores clave en el mercado de la Inteligencia Artificial:\n",
      "- Empresas líderes en IA como Google, Amazon, y Microsoft.\n",
      "- Startups emergentes que están innovando en el campo de la IA.\n",
      "- Instituciones académicas y organizaciones sin fines de lucro dedicadas a la investigación en IA.\n",
      "\n",
      "3. Noticias relevantes sobre Inteligencia Artificial:\n",
      "- Avances recientes en IA que han impactado diferentes industrias.\n",
      "- Casos de uso exitosos de IA en el mundo real.\n",
      "- Eventos y conferencias relacionados con la IA que vale la pena seguir.\n",
      "\n",
      "Llamado a la Acción:\n",
      "¿Interesado en aprender más sobre la Inteligencia Artificial y cómo puede beneficiar a tu empresa o carrera? ¡Sigue nuestro blog para mantenerte actualizado sobre las últimas noticias y tendencias en IA!\n",
      "\n",
      "Público Objetivo:\n",
      "Nuestro público objetivo incluye a profesionales de la tecnología, emprendedores, estudiantes de informática y cualquier persona interesada en conocer más sobre la Inteligencia Artificial. Nuestros lectores buscan información precisa y actualizada sobre las últimas tendencias y desarrollos en el campo de la IA.\n",
      "\n",
      "Palabras Clave de SEO:\n",
      "- Inteligencia Artificial\n",
      "- Tendencias en IA\n",
      "- Jugadores clave en IA\n",
      "- Noticias de IA\n",
      "- Aplicaciones de IA\n",
      "\n",
      "Recursos:\n",
      "- Informes de investigación de empresas de análisis de mercado como Gartner y Forrester.\n",
      "- Artículos de noticias de sitios especializados en tecnología como TechCrunch y Wired.\n",
      "- Publicaciones académicas y estudios de caso sobre aplicaciones exitosas de IA en diferentes industrias.\n",
      "\n",
      "\u001b[00m\n",
      "\u001b[1m\u001b[95m [DEBUG]: == Working Agent: Content Writer\u001b[00m\n",
      "\u001b[1m\u001b[95m [INFO]: == Starting Task: 1. Use the content plan to craft a compelling blog post on Artificial Intelligence.\n",
      "2. Incorporate SEO keywords naturally.\n",
      "3. Sections/Subtitles are properly named in an engaging manner.\n",
      "4. Ensure the post is structured with an engaging introduction, insightful body, and a summarizing conclusion.\n",
      "5. Proofread for grammatical errors and alignment with the brand's voice.\n",
      "\u001b[00m\n",
      "\n",
      "\n",
      "\u001b[1m> Entering new CrewAgentExecutor chain...\u001b[0m\n",
      "\u001b[32;1m\u001b[1;3mEstoy listo para escribir un excelente artículo sobre Inteligencia Artificial.\n",
      "\n",
      "Final Answer:\n",
      "\n",
      "# Descubriendo el Futuro: Tendencias, Jugadores Clave y Noticias Relevantes sobre la Inteligencia Artificial\n",
      "\n",
      "En la era actual de la transformación digital, la Inteligencia Artificial (IA) se ha convertido en un elemento fundamental en nuestra interacción con la tecnología. Desde asistentes virtuales hasta sistemas de recomendación, la IA ha permeado todos los aspectos de nuestra vida diaria. En este artículo, exploraremos las últimas tendencias, los actores clave en el mercado y las noticias más relevantes en el campo de la IA.\n",
      "\n",
      "## Últimas tendencias en Inteligencia Artificial\n",
      "\n",
      "Los avances en el aprendizaje profundo y el procesamiento del lenguaje natural han llevado a un aumento significativo en la eficacia de los sistemas de IA. Estos avances se reflejan en la diversidad de aplicaciones de IA en sectores como la salud, el comercio electrónico y la automoción. Además, el desarrollo de IA ética y responsable se ha convertido en una prioridad para garantizar que el impacto de esta tecnología sea beneficioso para la sociedad en su conjunto.\n",
      "\n",
      "## Jugadores clave en el mercado de la Inteligencia Artificial\n",
      "\n",
      "Empresas líderes en IA como Google, Amazon y Microsoft han establecido su posición dominante en el mercado. Sin embargo, las startups emergentes también están desempeñando un papel crucial al innovar y traer nuevas ideas al campo de la IA. Además, instituciones académicas y organizaciones sin fines de lucro están contribuyendo con investigaciones de vanguardia que impulsan el desarrollo de la IA en diferentes direcciones.\n",
      "\n",
      "## Noticias relevantes sobre Inteligencia Artificial\n",
      "\n",
      "Los avances recientes en IA han tenido un impacto significativo en diversas industrias, desde la medicina hasta la logística. Los casos de uso exitosos de IA en el mundo real demuestran el potencial transformador de esta tecnología. Por otro lado, los eventos y conferencias relacionados con la IA ofrecen una oportunidad única para mantenerse al día con las últimas tendencias y conectarse con expertos en el campo.\n",
      "\n",
      "En conclusión, la Inteligencia Artificial continúa siendo un área de gran interés y crecimiento en la era digital actual. Mantenerse informado sobre las últimas tendencias, los jugadores clave en el mercado y las noticias relevantes en el campo de la IA es crucial para aquellos interesados en aprovechar al máximo el potencial de esta tecnología. ¿Listo para sumergirte en el fascinante mundo de la IA? ¡Sigue nuestro blog para estar al tanto de todas las novedades!\n",
      "\n",
      "### Palabras Clave de SEO: \n",
      "- Inteligencia Artificial\n",
      "- Tendencias en IA\n",
      "- Jugadores clave en IA\n",
      "- Noticias de IA\n",
      "- Aplicaciones de IA\n",
      "\n",
      "Recursos:\n",
      "- Informes de investigación de Gartner y Forrester.\n",
      "- Artículos de TechCrunch y Wired.\n",
      "- Publicaciones académicas y estudios de caso sobre aplicaciones exitosas de IA.\u001b[0m\n",
      "\n",
      "\u001b[1m> Finished chain.\u001b[0m\n",
      "\u001b[1m\u001b[92m [DEBUG]: == [Content Writer] Task output: # Descubriendo el Futuro: Tendencias, Jugadores Clave y Noticias Relevantes sobre la Inteligencia Artificial\n",
      "\n",
      "En la era actual de la transformación digital, la Inteligencia Artificial (IA) se ha convertido en un elemento fundamental en nuestra interacción con la tecnología. Desde asistentes virtuales hasta sistemas de recomendación, la IA ha permeado todos los aspectos de nuestra vida diaria. En este artículo, exploraremos las últimas tendencias, los actores clave en el mercado y las noticias más relevantes en el campo de la IA.\n",
      "\n",
      "## Últimas tendencias en Inteligencia Artificial\n",
      "\n",
      "Los avances en el aprendizaje profundo y el procesamiento del lenguaje natural han llevado a un aumento significativo en la eficacia de los sistemas de IA. Estos avances se reflejan en la diversidad de aplicaciones de IA en sectores como la salud, el comercio electrónico y la automoción. Además, el desarrollo de IA ética y responsable se ha convertido en una prioridad para garantizar que el impacto de esta tecnología sea beneficioso para la sociedad en su conjunto.\n",
      "\n",
      "## Jugadores clave en el mercado de la Inteligencia Artificial\n",
      "\n",
      "Empresas líderes en IA como Google, Amazon y Microsoft han establecido su posición dominante en el mercado. Sin embargo, las startups emergentes también están desempeñando un papel crucial al innovar y traer nuevas ideas al campo de la IA. Además, instituciones académicas y organizaciones sin fines de lucro están contribuyendo con investigaciones de vanguardia que impulsan el desarrollo de la IA en diferentes direcciones.\n",
      "\n",
      "## Noticias relevantes sobre Inteligencia Artificial\n",
      "\n",
      "Los avances recientes en IA han tenido un impacto significativo en diversas industrias, desde la medicina hasta la logística. Los casos de uso exitosos de IA en el mundo real demuestran el potencial transformador de esta tecnología. Por otro lado, los eventos y conferencias relacionados con la IA ofrecen una oportunidad única para mantenerse al día con las últimas tendencias y conectarse con expertos en el campo.\n",
      "\n",
      "En conclusión, la Inteligencia Artificial continúa siendo un área de gran interés y crecimiento en la era digital actual. Mantenerse informado sobre las últimas tendencias, los jugadores clave en el mercado y las noticias relevantes en el campo de la IA es crucial para aquellos interesados en aprovechar al máximo el potencial de esta tecnología. ¿Listo para sumergirte en el fascinante mundo de la IA? ¡Sigue nuestro blog para estar al tanto de todas las novedades!\n",
      "\n",
      "### Palabras Clave de SEO: \n",
      "- Inteligencia Artificial\n",
      "- Tendencias en IA\n",
      "- Jugadores clave en IA\n",
      "- Noticias de IA\n",
      "- Aplicaciones de IA\n",
      "\n",
      "Recursos:\n",
      "- Informes de investigación de Gartner y Forrester.\n",
      "- Artículos de TechCrunch y Wired.\n",
      "- Publicaciones académicas y estudios de caso sobre aplicaciones exitosas de IA.\n",
      "\n",
      "\u001b[00m\n",
      "\u001b[1m\u001b[95m [DEBUG]: == Working Agent: Editor\u001b[00m\n",
      "\u001b[1m\u001b[95m [INFO]: == Starting Task: Proofread the given blog post for grammatical errors and alignment with the brand's voice.\u001b[00m\n",
      "\n",
      "\n",
      "\u001b[1m> Entering new CrewAgentExecutor chain...\u001b[0m\n"
     ]
    },
    {
     "name": "stdout",
     "output_type": "stream",
     "text": [
      "\u001b[32;1m\u001b[1;3mI now can give a great answer\n",
      "\n",
      "Final Answer:\n",
      "# Descubriendo el Futuro: Tendencias, Jugadores Clave y Noticias Relevantes sobre la Inteligencia Artificial\n",
      "\n",
      "En la era actual de la transformación digital, la Inteligencia Artificial (IA) se ha convertido en un elemento fundamental en nuestra interacción con la tecnología. Desde asistentes virtuales hasta sistemas de recomendación, la IA ha permeado todos los aspectos de nuestra vida diaria. En este artículo, exploraremos las últimas tendencias, los actores clave en el mercado y las noticias más relevantes en el campo de la IA.\n",
      "\n",
      "## Últimas tendencias en Inteligencia Artificial\n",
      "\n",
      "Los avances en el aprendizaje profundo y el procesamiento del lenguaje natural han llevado a un aumento significativo en la eficacia de los sistemas de IA. Estos avances se reflejan en la diversidad de aplicaciones de IA en sectores como la salud, el comercio electrónico y la automoción. Además, el desarrollo de IA ética y responsable se ha convertido en una prioridad para garantizar que el impacto de esta tecnología sea beneficioso para la sociedad en su conjunto.\n",
      "\n",
      "## Jugadores clave en el mercado de la Inteligencia Artificial\n",
      "\n",
      "Empresas líderes en IA como Google, Amazon y Microsoft han establecido su posición dominante en el mercado. Sin embargo, las startups emergentes también están desempeñando un papel crucial al innovar y traer nuevas ideas al campo de la IA. Además, instituciones académicas y organizaciones sin fines de lucro están contribuyendo con investigaciones de vanguardia que impulsan el desarrollo de la IA en diferentes direcciones.\n",
      "\n",
      "## Noticias relevantes sobre Inteligencia Artificial\n",
      "\n",
      "Los avances recientes en IA han tenido un impacto significativo en diversas industrias, desde la medicina hasta la logística. Los casos de uso exitosos de IA en el mundo real demuestran el potencial transformador de esta tecnología. Por otro lado, los eventos y conferencias relacionados con la IA ofrecen una oportunidad única para mantenerse al día con las últimas tendencias y conectarse con expertos en el campo.\n",
      "\n",
      "En conclusión, la Inteligencia Artificial continúa siendo un área de gran interés y crecimiento en la era digital actual. Mantenerse informado sobre las últimas tendencias, los jugadores clave en el mercado y las noticias relevantes en el campo de la IA es crucial para aquellos interesados en aprovechar al máximo el potencial de esta tecnología. ¿Listo para sumergirte en el fascinante mundo de la IA? ¡Sigue nuestro blog para estar al tanto de todas las novedades!\n",
      "\n",
      "### Palabras Clave de SEO: \n",
      "- Inteligencia Artificial\n",
      "- Tendencias en IA\n",
      "- Jugadores clave en IA\n",
      "- Noticias de IA\n",
      "- Aplicaciones de IA\n",
      "\n",
      "Recursos:\n",
      "- Informes de investigación de Gartner y Forrester.\n",
      "- Artículos de TechCrunch y Wired.\n",
      "- Publicaciones académicas y estudios de caso sobre aplicaciones exitosas de IA.\u001b[0m\n",
      "\n",
      "\u001b[1m> Finished chain.\u001b[0m\n",
      "\u001b[1m\u001b[92m [DEBUG]: == [Editor] Task output: # Descubriendo el Futuro: Tendencias, Jugadores Clave y Noticias Relevantes sobre la Inteligencia Artificial\n",
      "\n",
      "En la era actual de la transformación digital, la Inteligencia Artificial (IA) se ha convertido en un elemento fundamental en nuestra interacción con la tecnología. Desde asistentes virtuales hasta sistemas de recomendación, la IA ha permeado todos los aspectos de nuestra vida diaria. En este artículo, exploraremos las últimas tendencias, los actores clave en el mercado y las noticias más relevantes en el campo de la IA.\n",
      "\n",
      "## Últimas tendencias en Inteligencia Artificial\n",
      "\n",
      "Los avances en el aprendizaje profundo y el procesamiento del lenguaje natural han llevado a un aumento significativo en la eficacia de los sistemas de IA. Estos avances se reflejan en la diversidad de aplicaciones de IA en sectores como la salud, el comercio electrónico y la automoción. Además, el desarrollo de IA ética y responsable se ha convertido en una prioridad para garantizar que el impacto de esta tecnología sea beneficioso para la sociedad en su conjunto.\n",
      "\n",
      "## Jugadores clave en el mercado de la Inteligencia Artificial\n",
      "\n",
      "Empresas líderes en IA como Google, Amazon y Microsoft han establecido su posición dominante en el mercado. Sin embargo, las startups emergentes también están desempeñando un papel crucial al innovar y traer nuevas ideas al campo de la IA. Además, instituciones académicas y organizaciones sin fines de lucro están contribuyendo con investigaciones de vanguardia que impulsan el desarrollo de la IA en diferentes direcciones.\n",
      "\n",
      "## Noticias relevantes sobre Inteligencia Artificial\n",
      "\n",
      "Los avances recientes en IA han tenido un impacto significativo en diversas industrias, desde la medicina hasta la logística. Los casos de uso exitosos de IA en el mundo real demuestran el potencial transformador de esta tecnología. Por otro lado, los eventos y conferencias relacionados con la IA ofrecen una oportunidad única para mantenerse al día con las últimas tendencias y conectarse con expertos en el campo.\n",
      "\n",
      "En conclusión, la Inteligencia Artificial continúa siendo un área de gran interés y crecimiento en la era digital actual. Mantenerse informado sobre las últimas tendencias, los jugadores clave en el mercado y las noticias relevantes en el campo de la IA es crucial para aquellos interesados en aprovechar al máximo el potencial de esta tecnología. ¿Listo para sumergirte en el fascinante mundo de la IA? ¡Sigue nuestro blog para estar al tanto de todas las novedades!\n",
      "\n",
      "### Palabras Clave de SEO: \n",
      "- Inteligencia Artificial\n",
      "- Tendencias en IA\n",
      "- Jugadores clave en IA\n",
      "- Noticias de IA\n",
      "- Aplicaciones de IA\n",
      "\n",
      "Recursos:\n",
      "- Informes de investigación de Gartner y Forrester.\n",
      "- Artículos de TechCrunch y Wired.\n",
      "- Publicaciones académicas y estudios de caso sobre aplicaciones exitosas de IA.\n",
      "\n",
      "\u001b[00m\n"
     ]
    }
   ],
   "source": [
    "result = crew.kickoff(inputs={\"topic\": \"Artificial Intelligence\"})"
   ]
  },
  {
   "cell_type": "markdown",
   "metadata": {},
   "source": [
    "- Display the results of your execution as markdown in the notebook."
   ]
  },
  {
   "cell_type": "code",
   "execution_count": 26,
   "metadata": {
    "height": 47
   },
   "outputs": [
    {
     "data": {
      "text/markdown": [
       "# Descubriendo el Futuro: Tendencias, Jugadores Clave y Noticias Relevantes sobre la Inteligencia Artificial\n",
       "\n",
       "En la era actual de la transformación digital, la Inteligencia Artificial (IA) se ha convertido en un elemento fundamental en nuestra interacción con la tecnología. Desde asistentes virtuales hasta sistemas de recomendación, la IA ha permeado todos los aspectos de nuestra vida diaria. En este artículo, exploraremos las últimas tendencias, los actores clave en el mercado y las noticias más relevantes en el campo de la IA.\n",
       "\n",
       "## Últimas tendencias en Inteligencia Artificial\n",
       "\n",
       "Los avances en el aprendizaje profundo y el procesamiento del lenguaje natural han llevado a un aumento significativo en la eficacia de los sistemas de IA. Estos avances se reflejan en la diversidad de aplicaciones de IA en sectores como la salud, el comercio electrónico y la automoción. Además, el desarrollo de IA ética y responsable se ha convertido en una prioridad para garantizar que el impacto de esta tecnología sea beneficioso para la sociedad en su conjunto.\n",
       "\n",
       "## Jugadores clave en el mercado de la Inteligencia Artificial\n",
       "\n",
       "Empresas líderes en IA como Google, Amazon y Microsoft han establecido su posición dominante en el mercado. Sin embargo, las startups emergentes también están desempeñando un papel crucial al innovar y traer nuevas ideas al campo de la IA. Además, instituciones académicas y organizaciones sin fines de lucro están contribuyendo con investigaciones de vanguardia que impulsan el desarrollo de la IA en diferentes direcciones.\n",
       "\n",
       "## Noticias relevantes sobre Inteligencia Artificial\n",
       "\n",
       "Los avances recientes en IA han tenido un impacto significativo en diversas industrias, desde la medicina hasta la logística. Los casos de uso exitosos de IA en el mundo real demuestran el potencial transformador de esta tecnología. Por otro lado, los eventos y conferencias relacionados con la IA ofrecen una oportunidad única para mantenerse al día con las últimas tendencias y conectarse con expertos en el campo.\n",
       "\n",
       "En conclusión, la Inteligencia Artificial continúa siendo un área de gran interés y crecimiento en la era digital actual. Mantenerse informado sobre las últimas tendencias, los jugadores clave en el mercado y las noticias relevantes en el campo de la IA es crucial para aquellos interesados en aprovechar al máximo el potencial de esta tecnología. ¿Listo para sumergirte en el fascinante mundo de la IA? ¡Sigue nuestro blog para estar al tanto de todas las novedades!\n",
       "\n",
       "### Palabras Clave de SEO: \n",
       "- Inteligencia Artificial\n",
       "- Tendencias en IA\n",
       "- Jugadores clave en IA\n",
       "- Noticias de IA\n",
       "- Aplicaciones de IA\n",
       "\n",
       "Recursos:\n",
       "- Informes de investigación de Gartner y Forrester.\n",
       "- Artículos de TechCrunch y Wired.\n",
       "- Publicaciones académicas y estudios de caso sobre aplicaciones exitosas de IA."
      ],
      "text/plain": [
       "<IPython.core.display.Markdown object>"
      ]
     },
     "execution_count": 26,
     "metadata": {},
     "output_type": "execute_result"
    }
   ],
   "source": [
    "from IPython.display import Markdown\n",
    "Markdown(result)"
   ]
  },
  {
   "cell_type": "markdown",
   "metadata": {},
   "source": [
    "## Try it Yourself\n",
    "\n",
    "- Pass in a topic of your choice and see what the agents come up with!"
   ]
  },
  {
   "cell_type": "code",
   "execution_count": 27,
   "metadata": {
    "height": 47
   },
   "outputs": [
    {
     "name": "stdout",
     "output_type": "stream",
     "text": [
      "\u001b[1m\u001b[95m [DEBUG]: == Working Agent: Content Planner\u001b[00m\n",
      "\u001b[1m\u001b[95m [INFO]: == Starting Task: 1. Prioritize the latest trends, key players, and noteworthy news on Buenos Aires, Argentina.\n",
      "2. Identify the target audience, considering their interests and pain points.\n",
      "3. Develop a detailed content outline including an introduction, key points, and a call to action.\n",
      "4. Include SEO keywords and relevant data or sources.\u001b[00m\n",
      "\n",
      "\n",
      "\u001b[1m> Entering new CrewAgentExecutor chain...\u001b[0m\n",
      "\u001b[32;1m\u001b[1;3m\u001b[0m\u001b[32;1m\u001b[1;3mThought: Ahora puedo dar una gran respuesta\n",
      "\n",
      "Final Answer:\n",
      "\n",
      "Plan de Contenido\n",
      "\n",
      "Tema: Buenos Aires, Argentina\n",
      "\n",
      "Introducción:\n",
      "Buenos Aires, la capital de Argentina, es una ciudad vibrante y llena de historia, cultura y belleza. En este artículo, exploraremos los últimos acontecimientos, actores clave y noticias relevantes sobre esta fascinante ciudad.\n",
      "\n",
      "Puntos Clave:\n",
      "1. Últimas tendencias en Buenos Aires:\n",
      "- Desarrollo urbano y arquitectónico\n",
      "- Escena gastronómica y de entretenimiento\n",
      "- Avances en tecnología y negocios\n",
      "\n",
      "2. Actores clave en Buenos Aires:\n",
      "- Gobierno local y nacional\n",
      "- Empresas líderes en diferentes sectores\n",
      "- Organizaciones culturales y artísticas\n",
      "\n",
      "3. Noticias destacadas en Buenos Aires:\n",
      "- Eventos culturales y deportivos\n",
      "- Iniciativas de sostenibilidad\n",
      "- Avances en infraestructura y transporte\n",
      "\n",
      "Público Objetivo:\n",
      "Nuestro público objetivo son viajeros interesados en visitar Buenos Aires, empresarios que buscan oportunidades de inversión en la ciudad, y amantes de la cultura y la historia argentina. Sus intereses incluyen la gastronomía local, la arquitectura única de la ciudad, y las experiencias culturales auténticas.\n",
      "\n",
      "Análisis de SEO:\n",
      "Palabras clave principales: Buenos Aires, Argentina, turismo, cultura, historia, gastronomía, arquitectura, inversiones, eventos, transporte.\n",
      "Fuentes de datos y recursos:\n",
      "- Gobierno de la Ciudad de Buenos Aires\n",
      "- Ministerio de Turismo de Argentina\n",
      "- Cámaras de Comercio locales\n",
      "- Medios de comunicación argentinos\n",
      "\n",
      "Conclusión:\n",
      "Buenos Aires es una ciudad dinámica y diversa que ofrece una amplia gama de experiencias para los visitantes y residentes por igual. Al mantenernos al tanto de las últimas tendencias, actores clave y noticias destacadas, podemos apreciar plenamente todo lo que esta ciudad tiene para ofrecer.\n",
      "\n",
      "Acción:\n",
      "¡Planee su próximo viaje a Buenos Aires y explore todo lo que esta increíble ciudad tiene para ofrecer! ¡No se pierda las últimas noticias y eventos emocionantes que están sucediendo en la capital argentina!\u001b[0m\n",
      "\n",
      "\u001b[1m> Finished chain.\u001b[0m\n",
      "\u001b[1m\u001b[92m [DEBUG]: == [Content Planner] Task output: Plan de Contenido\n",
      "\n",
      "Tema: Buenos Aires, Argentina\n",
      "\n",
      "Introducción:\n",
      "Buenos Aires, la capital de Argentina, es una ciudad vibrante y llena de historia, cultura y belleza. En este artículo, exploraremos los últimos acontecimientos, actores clave y noticias relevantes sobre esta fascinante ciudad.\n",
      "\n",
      "Puntos Clave:\n",
      "1. Últimas tendencias en Buenos Aires:\n",
      "- Desarrollo urbano y arquitectónico\n",
      "- Escena gastronómica y de entretenimiento\n",
      "- Avances en tecnología y negocios\n",
      "\n",
      "2. Actores clave en Buenos Aires:\n",
      "- Gobierno local y nacional\n",
      "- Empresas líderes en diferentes sectores\n",
      "- Organizaciones culturales y artísticas\n",
      "\n",
      "3. Noticias destacadas en Buenos Aires:\n",
      "- Eventos culturales y deportivos\n",
      "- Iniciativas de sostenibilidad\n",
      "- Avances en infraestructura y transporte\n",
      "\n",
      "Público Objetivo:\n",
      "Nuestro público objetivo son viajeros interesados en visitar Buenos Aires, empresarios que buscan oportunidades de inversión en la ciudad, y amantes de la cultura y la historia argentina. Sus intereses incluyen la gastronomía local, la arquitectura única de la ciudad, y las experiencias culturales auténticas.\n",
      "\n",
      "Análisis de SEO:\n",
      "Palabras clave principales: Buenos Aires, Argentina, turismo, cultura, historia, gastronomía, arquitectura, inversiones, eventos, transporte.\n",
      "Fuentes de datos y recursos:\n",
      "- Gobierno de la Ciudad de Buenos Aires\n",
      "- Ministerio de Turismo de Argentina\n",
      "- Cámaras de Comercio locales\n",
      "- Medios de comunicación argentinos\n",
      "\n",
      "Conclusión:\n",
      "Buenos Aires es una ciudad dinámica y diversa que ofrece una amplia gama de experiencias para los visitantes y residentes por igual. Al mantenernos al tanto de las últimas tendencias, actores clave y noticias destacadas, podemos apreciar plenamente todo lo que esta ciudad tiene para ofrecer.\n",
      "\n",
      "Acción:\n",
      "¡Planee su próximo viaje a Buenos Aires y explore todo lo que esta increíble ciudad tiene para ofrecer! ¡No se pierda las últimas noticias y eventos emocionantes que están sucediendo en la capital argentina!\n",
      "\n",
      "\u001b[00m\n",
      "\u001b[1m\u001b[95m [DEBUG]: == Working Agent: Content Writer\u001b[00m\n",
      "\u001b[1m\u001b[95m [INFO]: == Starting Task: 1. Use the content plan to craft a compelling blog post on Buenos Aires, Argentina.\n",
      "2. Incorporate SEO keywords naturally.\n",
      "3. Sections/Subtitles are properly named in an engaging manner.\n",
      "4. Ensure the post is structured with an engaging introduction, insightful body, and a summarizing conclusion.\n",
      "5. Proofread for grammatical errors and alignment with the brand's voice.\n",
      "\u001b[00m\n",
      "\n",
      "\n",
      "\u001b[1m> Entering new CrewAgentExecutor chain...\u001b[0m\n",
      "\u001b[32;1m\u001b[1;3mEste es un tema fascinante que sin duda capturará la atención de los lectores interesados en conocer más sobre Buenos Aires, Argentina. \n",
      "\n",
      "Final Answer:\n",
      "\n",
      "# Explorando Buenos Aires, Argentina\n",
      "\n",
      "## Introducción\n",
      "\n",
      "Buenos Aires, la capital de Argentina, es una ciudad vibrante y llena de historia, cultura y belleza. En este artículo, exploraremos los últimos acontecimientos, actores clave y noticias relevantes sobre esta fascinante ciudad.\n",
      "\n",
      "## Últimas tendencias en Buenos Aires\n",
      "\n",
      "Buenos Aires se encuentra en constante desarrollo urbano y arquitectónico, con nuevos proyectos que buscan combinar la modernidad con la rica historia de la ciudad. La escena gastronómica y de entretenimiento también está en auge, con una amplia variedad de restaurantes, bares y eventos culturales que satisfacen incluso a los paladares más exigentes. En cuanto a avances en tecnología y negocios, Buenos Aires se posiciona como un importante polo de innovación en América Latina, atrayendo a empresas y emprendedores de todo el mundo.\n",
      "\n",
      "## Actores clave en Buenos Aires\n",
      "\n",
      "El gobierno local y nacional juegan un papel fundamental en el desarrollo y crecimiento de Buenos Aires, implementando políticas que buscan mejorar la calidad de vida de los ciudadanos. Asimismo, empresas líderes en diferentes sectores contribuyen al dinamismo económico de la ciudad, generando oportunidades de empleo y crecimiento. Las organizaciones culturales y artísticas también son parte fundamental de la identidad de Buenos Aires, promoviendo la diversidad y el talento local.\n",
      "\n",
      "## Noticias destacadas en Buenos Aires\n",
      "\n",
      "Los eventos culturales y deportivos son una parte esencial de la vida en Buenos Aires, con festivales, conciertos y competencias que atraen a visitantes de todas partes del mundo. Las iniciativas de sostenibilidad son cada vez más relevantes en la ciudad, con proyectos que buscan preservar el patrimonio natural y cultural de Buenos Aires. En cuanto a infraestructura y transporte, se han realizado importantes avances para mejorar la movilidad y conectividad de la ciudad, facilitando la vida diaria de sus habitantes.\n",
      "\n",
      "## Conclusión\n",
      "\n",
      "Buenos Aires es una ciudad dinámica y diversa que ofrece una amplia gama de experiencias para los visitantes y residentes por igual. Al mantenernos al tanto de las últimas tendencias, actores clave y noticias destacadas, podemos apreciar plenamente todo lo que esta ciudad tiene para ofrecer.\n",
      "\n",
      "¡Planee su próximo viaje a Buenos Aires y explore todo lo que esta increíble ciudad tiene para ofrecer! ¡No se pierda las últimas noticias y eventos emocionantes que están sucediendo en la capital argentina!\u001b[0m\n",
      "\n",
      "\u001b[1m> Finished chain.\u001b[0m\n",
      "\u001b[1m\u001b[92m [DEBUG]: == [Content Writer] Task output: # Explorando Buenos Aires, Argentina\n",
      "\n",
      "## Introducción\n",
      "\n",
      "Buenos Aires, la capital de Argentina, es una ciudad vibrante y llena de historia, cultura y belleza. En este artículo, exploraremos los últimos acontecimientos, actores clave y noticias relevantes sobre esta fascinante ciudad.\n",
      "\n",
      "## Últimas tendencias en Buenos Aires\n",
      "\n",
      "Buenos Aires se encuentra en constante desarrollo urbano y arquitectónico, con nuevos proyectos que buscan combinar la modernidad con la rica historia de la ciudad. La escena gastronómica y de entretenimiento también está en auge, con una amplia variedad de restaurantes, bares y eventos culturales que satisfacen incluso a los paladares más exigentes. En cuanto a avances en tecnología y negocios, Buenos Aires se posiciona como un importante polo de innovación en América Latina, atrayendo a empresas y emprendedores de todo el mundo.\n",
      "\n",
      "## Actores clave en Buenos Aires\n",
      "\n",
      "El gobierno local y nacional juegan un papel fundamental en el desarrollo y crecimiento de Buenos Aires, implementando políticas que buscan mejorar la calidad de vida de los ciudadanos. Asimismo, empresas líderes en diferentes sectores contribuyen al dinamismo económico de la ciudad, generando oportunidades de empleo y crecimiento. Las organizaciones culturales y artísticas también son parte fundamental de la identidad de Buenos Aires, promoviendo la diversidad y el talento local.\n",
      "\n",
      "## Noticias destacadas en Buenos Aires\n",
      "\n",
      "Los eventos culturales y deportivos son una parte esencial de la vida en Buenos Aires, con festivales, conciertos y competencias que atraen a visitantes de todas partes del mundo. Las iniciativas de sostenibilidad son cada vez más relevantes en la ciudad, con proyectos que buscan preservar el patrimonio natural y cultural de Buenos Aires. En cuanto a infraestructura y transporte, se han realizado importantes avances para mejorar la movilidad y conectividad de la ciudad, facilitando la vida diaria de sus habitantes.\n",
      "\n",
      "## Conclusión\n",
      "\n",
      "Buenos Aires es una ciudad dinámica y diversa que ofrece una amplia gama de experiencias para los visitantes y residentes por igual. Al mantenernos al tanto de las últimas tendencias, actores clave y noticias destacadas, podemos apreciar plenamente todo lo que esta ciudad tiene para ofrecer.\n",
      "\n",
      "¡Planee su próximo viaje a Buenos Aires y explore todo lo que esta increíble ciudad tiene para ofrecer! ¡No se pierda las últimas noticias y eventos emocionantes que están sucediendo en la capital argentina!\n",
      "\n",
      "\u001b[00m\n",
      "\u001b[1m\u001b[95m [DEBUG]: == Working Agent: Editor\u001b[00m\n",
      "\u001b[1m\u001b[95m [INFO]: == Starting Task: Proofread the given blog post for grammatical errors and alignment with the brand's voice.\u001b[00m\n",
      "\n",
      "\n",
      "\u001b[1m> Entering new CrewAgentExecutor chain...\u001b[0m\n"
     ]
    },
    {
     "name": "stdout",
     "output_type": "stream",
     "text": [
      "\u001b[32;1m\u001b[1;3mI now can give a great answer\n",
      "\n",
      "Final Answer: \n",
      "\n",
      "# Explorando Buenos Aires, Argentina\n",
      "\n",
      "## Introducción\n",
      "\n",
      "Buenos Aires, la capital de Argentina, es una ciudad vibrante y llena de historia, cultura y belleza. En este artículo, exploraremos los últimos acontecimientos, actores clave y noticias relevantes sobre esta fascinante ciudad.\n",
      "\n",
      "## Últimas tendencias en Buenos Aires\n",
      "\n",
      "Buenos Aires se encuentra en constante desarrollo urbano y arquitectónico, con nuevos proyectos que buscan combinar la modernidad con la rica historia de la ciudad. La escena gastronómica y de entretenimiento también está en auge, con una amplia variedad de restaurantes, bares y eventos culturales que satisfacen incluso a los paladares más exigentes. En cuanto a avances en tecnología y negocios, Buenos Aires se posiciona como un importante polo de innovación en América Latina, atrayendo a empresas y emprendedores de todo el mundo.\n",
      "\n",
      "## Actores clave en Buenos Aires\n",
      "\n",
      "El gobierno local y nacional juegan un papel fundamental en el desarrollo y crecimiento de Buenos Aires, implementando políticas que buscan mejorar la calidad de vida de los ciudadanos. Asimismo, empresas líderes en diferentes sectores contribuyen al dinamismo económico de la ciudad, generando oportunidades de empleo y crecimiento. Las organizaciones culturales y artísticas también son parte fundamental de la identidad de Buenos Aires, promoviendo la diversidad y el talento local.\n",
      "\n",
      "## Noticias destacadas en Buenos Aires\n",
      "\n",
      "Los eventos culturales y deportivos son una parte esencial de la vida en Buenos Aires, con festivales, conciertos y competencias que atraen a visitantes de todas partes del mundo. Las iniciativas de sostenibilidad son cada vez más relevantes en la ciudad, con proyectos que buscan preservar el patrimonio natural y cultural de Buenos Aires. En cuanto a infraestructura y transporte, se han realizado importantes avances para mejorar la movilidad y conectividad de la ciudad, facilitando la vida diaria de sus habitantes.\n",
      "\n",
      "## Conclusión\n",
      "\n",
      "Buenos Aires es una ciudad dinámica y diversa que ofrece una amplia gama de experiencias para los visitantes y residentes por igual. Al mantenernos al tanto de las últimas tendencias, actores clave y noticias destacadas, podemos apreciar plenamente todo lo que esta ciudad tiene para ofrecer.\n",
      "\n",
      "¡Planee su próximo viaje a Buenos Aires y explore todo lo que esta increíble ciudad tiene para ofrecer! ¡No se pierda las últimas noticias y eventos emocionantes que están sucediendo en la capital argentina!\u001b[0m\n",
      "\n",
      "\u001b[1m> Finished chain.\u001b[0m\n",
      "\u001b[1m\u001b[92m [DEBUG]: == [Editor] Task output: # Explorando Buenos Aires, Argentina\n",
      "\n",
      "## Introducción\n",
      "\n",
      "Buenos Aires, la capital de Argentina, es una ciudad vibrante y llena de historia, cultura y belleza. En este artículo, exploraremos los últimos acontecimientos, actores clave y noticias relevantes sobre esta fascinante ciudad.\n",
      "\n",
      "## Últimas tendencias en Buenos Aires\n",
      "\n",
      "Buenos Aires se encuentra en constante desarrollo urbano y arquitectónico, con nuevos proyectos que buscan combinar la modernidad con la rica historia de la ciudad. La escena gastronómica y de entretenimiento también está en auge, con una amplia variedad de restaurantes, bares y eventos culturales que satisfacen incluso a los paladares más exigentes. En cuanto a avances en tecnología y negocios, Buenos Aires se posiciona como un importante polo de innovación en América Latina, atrayendo a empresas y emprendedores de todo el mundo.\n",
      "\n",
      "## Actores clave en Buenos Aires\n",
      "\n",
      "El gobierno local y nacional juegan un papel fundamental en el desarrollo y crecimiento de Buenos Aires, implementando políticas que buscan mejorar la calidad de vida de los ciudadanos. Asimismo, empresas líderes en diferentes sectores contribuyen al dinamismo económico de la ciudad, generando oportunidades de empleo y crecimiento. Las organizaciones culturales y artísticas también son parte fundamental de la identidad de Buenos Aires, promoviendo la diversidad y el talento local.\n",
      "\n",
      "## Noticias destacadas en Buenos Aires\n",
      "\n",
      "Los eventos culturales y deportivos son una parte esencial de la vida en Buenos Aires, con festivales, conciertos y competencias que atraen a visitantes de todas partes del mundo. Las iniciativas de sostenibilidad son cada vez más relevantes en la ciudad, con proyectos que buscan preservar el patrimonio natural y cultural de Buenos Aires. En cuanto a infraestructura y transporte, se han realizado importantes avances para mejorar la movilidad y conectividad de la ciudad, facilitando la vida diaria de sus habitantes.\n",
      "\n",
      "## Conclusión\n",
      "\n",
      "Buenos Aires es una ciudad dinámica y diversa que ofrece una amplia gama de experiencias para los visitantes y residentes por igual. Al mantenernos al tanto de las últimas tendencias, actores clave y noticias destacadas, podemos apreciar plenamente todo lo que esta ciudad tiene para ofrecer.\n",
      "\n",
      "¡Planee su próximo viaje a Buenos Aires y explore todo lo que esta increíble ciudad tiene para ofrecer! ¡No se pierda las últimas noticias y eventos emocionantes que están sucediendo en la capital argentina!\n",
      "\n",
      "\u001b[00m\n"
     ]
    }
   ],
   "source": [
    "topic = \"Buenos Aires, Argentina\"\n",
    "result = crew.kickoff(inputs={\"topic\": topic})"
   ]
  },
  {
   "cell_type": "code",
   "execution_count": 28,
   "metadata": {
    "height": 30
   },
   "outputs": [
    {
     "data": {
      "text/markdown": [
       "# Explorando Buenos Aires, Argentina\n",
       "\n",
       "## Introducción\n",
       "\n",
       "Buenos Aires, la capital de Argentina, es una ciudad vibrante y llena de historia, cultura y belleza. En este artículo, exploraremos los últimos acontecimientos, actores clave y noticias relevantes sobre esta fascinante ciudad.\n",
       "\n",
       "## Últimas tendencias en Buenos Aires\n",
       "\n",
       "Buenos Aires se encuentra en constante desarrollo urbano y arquitectónico, con nuevos proyectos que buscan combinar la modernidad con la rica historia de la ciudad. La escena gastronómica y de entretenimiento también está en auge, con una amplia variedad de restaurantes, bares y eventos culturales que satisfacen incluso a los paladares más exigentes. En cuanto a avances en tecnología y negocios, Buenos Aires se posiciona como un importante polo de innovación en América Latina, atrayendo a empresas y emprendedores de todo el mundo.\n",
       "\n",
       "## Actores clave en Buenos Aires\n",
       "\n",
       "El gobierno local y nacional juegan un papel fundamental en el desarrollo y crecimiento de Buenos Aires, implementando políticas que buscan mejorar la calidad de vida de los ciudadanos. Asimismo, empresas líderes en diferentes sectores contribuyen al dinamismo económico de la ciudad, generando oportunidades de empleo y crecimiento. Las organizaciones culturales y artísticas también son parte fundamental de la identidad de Buenos Aires, promoviendo la diversidad y el talento local.\n",
       "\n",
       "## Noticias destacadas en Buenos Aires\n",
       "\n",
       "Los eventos culturales y deportivos son una parte esencial de la vida en Buenos Aires, con festivales, conciertos y competencias que atraen a visitantes de todas partes del mundo. Las iniciativas de sostenibilidad son cada vez más relevantes en la ciudad, con proyectos que buscan preservar el patrimonio natural y cultural de Buenos Aires. En cuanto a infraestructura y transporte, se han realizado importantes avances para mejorar la movilidad y conectividad de la ciudad, facilitando la vida diaria de sus habitantes.\n",
       "\n",
       "## Conclusión\n",
       "\n",
       "Buenos Aires es una ciudad dinámica y diversa que ofrece una amplia gama de experiencias para los visitantes y residentes por igual. Al mantenernos al tanto de las últimas tendencias, actores clave y noticias destacadas, podemos apreciar plenamente todo lo que esta ciudad tiene para ofrecer.\n",
       "\n",
       "¡Planee su próximo viaje a Buenos Aires y explore todo lo que esta increíble ciudad tiene para ofrecer! ¡No se pierda las últimas noticias y eventos emocionantes que están sucediendo en la capital argentina!"
      ],
      "text/plain": [
       "<IPython.core.display.Markdown object>"
      ]
     },
     "execution_count": 28,
     "metadata": {},
     "output_type": "execute_result"
    }
   ],
   "source": [
    "Markdown(result)"
   ]
  },
  {
   "cell_type": "markdown",
   "metadata": {},
   "source": [
    "<a name='1'></a>\n",
    " ## Other Popular Models as LLM for your Agents"
   ]
  },
  {
   "cell_type": "markdown",
   "metadata": {},
   "source": [
    "#### Hugging Face (HuggingFaceHub endpoint)\n",
    "\n",
    "```Python\n",
    "from langchain_community.llms import HuggingFaceHub\n",
    "\n",
    "llm = HuggingFaceHub(\n",
    "    repo_id=\"HuggingFaceH4/zephyr-7b-beta\",\n",
    "    huggingfacehub_api_token=\"<HF_TOKEN_HERE>\",\n",
    "    task=\"text-generation\",\n",
    ")\n",
    "\n",
    "### you will pass \"llm\" to your agent function\n",
    "```"
   ]
  },
  {
   "cell_type": "markdown",
   "metadata": {},
   "source": [
    "#### Mistral API\n",
    "\n",
    "```Python\n",
    "OPENAI_API_KEY=your-mistral-api-key\n",
    "OPENAI_API_BASE=https://api.mistral.ai/v1\n",
    "OPENAI_MODEL_NAME=\"mistral-small\"\n",
    "```"
   ]
  },
  {
   "cell_type": "markdown",
   "metadata": {},
   "source": [
    "#### Cohere\n",
    "\n",
    "```Python\n",
    "from langchain_community.chat_models import ChatCohere\n",
    "# Initialize language model\n",
    "os.environ[\"COHERE_API_KEY\"] = \"your-cohere-api-key\"\n",
    "llm = ChatCohere()\n",
    "\n",
    "### you will pass \"llm\" to your agent function\n",
    "```"
   ]
  },
  {
   "cell_type": "markdown",
   "metadata": {},
   "source": [
    "### For using Llama locally with Ollama and more, checkout the crewAI documentation on [Connecting to any LLM](https://docs.crewai.com/how-to/LLM-Connections/)."
   ]
  },
  {
   "cell_type": "code",
   "execution_count": null,
   "metadata": {
    "height": 30
   },
   "outputs": [],
   "source": []
  },
  {
   "cell_type": "code",
   "execution_count": null,
   "metadata": {
    "height": 30
   },
   "outputs": [],
   "source": []
  },
  {
   "cell_type": "code",
   "execution_count": null,
   "metadata": {
    "height": 30
   },
   "outputs": [],
   "source": []
  }
 ],
 "metadata": {
  "colab": {
   "gpuType": "T4",
   "provenance": []
  },
  "kernelspec": {
   "display_name": "Python 3 (ipykernel)",
   "language": "python",
   "name": "python3"
  },
  "language_info": {
   "codemirror_mode": {
    "name": "ipython",
    "version": 3
   },
   "file_extension": ".py",
   "mimetype": "text/x-python",
   "name": "python",
   "nbconvert_exporter": "python",
   "pygments_lexer": "ipython3",
   "version": "3.11.9"
  }
 },
 "nbformat": 4,
 "nbformat_minor": 4
}
