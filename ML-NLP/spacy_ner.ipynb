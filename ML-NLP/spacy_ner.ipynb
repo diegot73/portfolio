{
 "cells": [
  {
   "cell_type": "markdown",
   "id": "c024f186-41a4-48e4-858d-525162b0a29b",
   "metadata": {},
   "source": [
    "### Here's an example using the spaCy library for Named Entity Recognition (NER) and redaction of sensitive information"
   ]
  },
  {
   "cell_type": "code",
   "execution_count": 1,
   "id": "82497cc9-ac36-470d-9125-b87b12bef527",
   "metadata": {},
   "outputs": [],
   "source": [
    "import spacy\n",
    "from spacy.pipeline.textcat import Config, single_label_cnn_config\n",
    "from spacy.matcher import PhraseMatcher"
   ]
  },
  {
   "cell_type": "code",
   "execution_count": 2,
   "id": "c1d6f621-a357-49ae-aa6f-0dbf59959858",
   "metadata": {},
   "outputs": [
    {
     "name": "stderr",
     "output_type": "stream",
     "text": [
      "C:\\Users\\000137613\\AppData\\Local\\miniconda3\\Lib\\site-packages\\spacy\\util.py:918: UserWarning: [W094] Model 'en_core_web_sm' (2.2.0) specifies an under-constrained spaCy version requirement: >=2.2.0. This can lead to compatibility problems with older versions, or as new spaCy versions are released, because the model may say it's compatible when it's not. Consider changing the \"spacy_version\" in your meta.json to a version range, with a lower and upper pin. For example: >=3.7.2,<3.8.0\n",
      "  warnings.warn(warn_msg)\n"
     ]
    }
   ],
   "source": [
    "# Load spaCy model with NER\n",
    "nlp = spacy.load(\"en_core_web_sm\")"
   ]
  },
  {
   "cell_type": "code",
   "execution_count": 3,
   "id": "b68f5274-012c-427e-bc11-778a59588f82",
   "metadata": {},
   "outputs": [],
   "source": [
    "# Example text\n",
    "document = \"John Doe's Social Security Number is 123-45-6789, and his email is john.doe@example.com.\"\n",
    "\n",
    "# Process the document with spaCy\n",
    "doc = nlp(document)"
   ]
  },
  {
   "cell_type": "code",
   "execution_count": 4,
   "id": "91ef79c3-8355-4c43-b340-6c2a5b7ddc4c",
   "metadata": {},
   "outputs": [],
   "source": [
    "# Identify sensitive entities\n",
    "sensitive_entities = [\"PERSON\", \"SOCIAL_SECURITY_NUMBER\", \"EMAIL\"]\n",
    "\n",
    "# Create a PhraseMatcher for sensitive entities\n",
    "matcher = PhraseMatcher(nlp.vocab)\n",
    "for ent in sensitive_entities:\n",
    "    matcher.add(ent, None, nlp(ent))"
   ]
  },
  {
   "cell_type": "code",
   "execution_count": 5,
   "id": "566f146b-e73b-4d55-9e7c-f61beb2a1f55",
   "metadata": {},
   "outputs": [],
   "source": [
    "# Redact sensitive information\n",
    "redacted_text = document\n",
    "for match_id, start, end in matcher(doc):\n",
    "    span = doc[start:end]\n",
    "    redacted_text = redacted_text.replace(span.text, \"[REDACTED]\")\n"
   ]
  },
  {
   "cell_type": "code",
   "execution_count": 6,
   "id": "2eb5a991-182e-47ae-9a0f-0fa667ed78f1",
   "metadata": {},
   "outputs": [
    {
     "name": "stdout",
     "output_type": "stream",
     "text": [
      "Original Text:\n",
      "John Doe's Social Security Number is 123-45-6789, and his email is john.doe@example.com.\n",
      "\n",
      "Redacted Text:\n",
      "John Doe's Social Security Number is 123-45-6789, and his email is john.doe@example.com.\n"
     ]
    }
   ],
   "source": [
    "print(\"Original Text:\")\n",
    "print(document)\n",
    "print(\"\\nRedacted Text:\")\n",
    "print(redacted_text)"
   ]
  },
  {
   "cell_type": "markdown",
   "id": "eec6aee0-9313-4376-a617-67d6ed3d1246",
   "metadata": {},
   "source": [
    "#### This example loads the spaCy English model, processes the input document, and uses a PhraseMatcher to identify sensitive entities like PERSON, SOCIAL_SECURITY_NUMBER, and EMAIL. It then redacts the identified entities with \"[REDACTED]\"."
   ]
  },
  {
   "cell_type": "code",
   "execution_count": null,
   "id": "a0b18e1c-94a8-49ed-9709-0eba0879ab47",
   "metadata": {},
   "outputs": [],
   "source": []
  },
  {
   "cell_type": "code",
   "execution_count": null,
   "id": "b64499d5-8628-4fcf-ba93-0820cd5e339a",
   "metadata": {},
   "outputs": [],
   "source": []
  },
  {
   "cell_type": "code",
   "execution_count": null,
   "id": "4d9ef158-a6cb-4922-9065-1a5032446e9c",
   "metadata": {},
   "outputs": [],
   "source": []
  }
 ],
 "metadata": {
  "kernelspec": {
   "display_name": "Python 3 (ipykernel)",
   "language": "python",
   "name": "python3"
  },
  "language_info": {
   "codemirror_mode": {
    "name": "ipython",
    "version": 3
   },
   "file_extension": ".py",
   "mimetype": "text/x-python",
   "name": "python",
   "nbconvert_exporter": "python",
   "pygments_lexer": "ipython3",
   "version": "3.12.7"
  }
 },
 "nbformat": 4,
 "nbformat_minor": 5
}
