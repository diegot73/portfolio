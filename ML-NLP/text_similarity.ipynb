{
 "cells": [
  {
   "cell_type": "code",
   "execution_count": 1,
   "id": "f3a538e9-5eb0-49a8-90ac-6274174362e1",
   "metadata": {},
   "outputs": [
    {
     "name": "stdout",
     "output_type": "stream",
     "text": [
      "Requirement already satisfied: sentence-transformers in c:\\users\\000137613\\appdata\\local\\miniconda3\\envs\\genai\\lib\\site-packages (2.3.0)\n",
      "Requirement already satisfied: transformers<5.0.0,>=4.32.0 in c:\\users\\000137613\\appdata\\local\\miniconda3\\envs\\genai\\lib\\site-packages (from sentence-transformers) (4.33.3)\n",
      "Requirement already satisfied: tqdm in c:\\users\\000137613\\appdata\\local\\miniconda3\\envs\\genai\\lib\\site-packages (from sentence-transformers) (4.65.0)\n",
      "Requirement already satisfied: torch>=1.11.0 in c:\\users\\000137613\\appdata\\local\\miniconda3\\envs\\genai\\lib\\site-packages (from sentence-transformers) (2.1.0)\n",
      "Requirement already satisfied: numpy in c:\\users\\000137613\\appdata\\local\\miniconda3\\envs\\genai\\lib\\site-packages (from sentence-transformers) (1.26.3)\n",
      "Requirement already satisfied: scikit-learn in c:\\users\\000137613\\appdata\\local\\miniconda3\\envs\\genai\\lib\\site-packages (from sentence-transformers) (1.3.0)\n",
      "Requirement already satisfied: scipy in c:\\users\\000137613\\appdata\\local\\miniconda3\\envs\\genai\\lib\\site-packages (from sentence-transformers) (1.11.4)\n",
      "Requirement already satisfied: nltk in c:\\users\\000137613\\appdata\\local\\miniconda3\\envs\\genai\\lib\\site-packages (from sentence-transformers) (3.8.1)\n",
      "Requirement already satisfied: sentencepiece in c:\\users\\000137613\\appdata\\local\\miniconda3\\envs\\genai\\lib\\site-packages (from sentence-transformers) (0.1.99)\n",
      "Requirement already satisfied: huggingface-hub>=0.15.1 in c:\\users\\000137613\\appdata\\local\\miniconda3\\envs\\genai\\lib\\site-packages (from sentence-transformers) (0.17.3)\n",
      "Requirement already satisfied: Pillow in c:\\users\\000137613\\appdata\\local\\miniconda3\\envs\\genai\\lib\\site-packages (from sentence-transformers) (10.0.1)\n",
      "Requirement already satisfied: filelock in c:\\users\\000137613\\appdata\\local\\miniconda3\\envs\\genai\\lib\\site-packages (from huggingface-hub>=0.15.1->sentence-transformers) (3.13.1)\n",
      "Requirement already satisfied: fsspec in c:\\users\\000137613\\appdata\\local\\miniconda3\\envs\\genai\\lib\\site-packages (from huggingface-hub>=0.15.1->sentence-transformers) (2023.10.0)\n",
      "Requirement already satisfied: requests in c:\\users\\000137613\\appdata\\local\\miniconda3\\envs\\genai\\lib\\site-packages (from huggingface-hub>=0.15.1->sentence-transformers) (2.31.0)\n",
      "Requirement already satisfied: pyyaml>=5.1 in c:\\users\\000137613\\appdata\\local\\miniconda3\\envs\\genai\\lib\\site-packages (from huggingface-hub>=0.15.1->sentence-transformers) (6.0.1)\n",
      "Requirement already satisfied: typing-extensions>=3.7.4.3 in c:\\users\\000137613\\appdata\\local\\miniconda3\\envs\\genai\\lib\\site-packages (from huggingface-hub>=0.15.1->sentence-transformers) (4.9.0)\n",
      "Requirement already satisfied: packaging>=20.9 in c:\\users\\000137613\\appdata\\local\\miniconda3\\envs\\genai\\lib\\site-packages (from huggingface-hub>=0.15.1->sentence-transformers) (23.1)\n",
      "Requirement already satisfied: sympy in c:\\users\\000137613\\appdata\\local\\miniconda3\\envs\\genai\\lib\\site-packages (from torch>=1.11.0->sentence-transformers) (1.12)\n",
      "Requirement already satisfied: networkx in c:\\users\\000137613\\appdata\\local\\miniconda3\\envs\\genai\\lib\\site-packages (from torch>=1.11.0->sentence-transformers) (3.1)\n",
      "Requirement already satisfied: jinja2 in c:\\users\\000137613\\appdata\\local\\miniconda3\\envs\\genai\\lib\\site-packages (from torch>=1.11.0->sentence-transformers) (3.1.2)\n",
      "Requirement already satisfied: colorama in c:\\users\\000137613\\appdata\\local\\miniconda3\\envs\\genai\\lib\\site-packages (from tqdm->sentence-transformers) (0.4.6)\n",
      "Requirement already satisfied: regex!=2019.12.17 in c:\\users\\000137613\\appdata\\local\\miniconda3\\envs\\genai\\lib\\site-packages (from transformers<5.0.0,>=4.32.0->sentence-transformers) (2023.10.3)\n",
      "Requirement already satisfied: tokenizers!=0.11.3,<0.14,>=0.11.1 in c:\\users\\000137613\\appdata\\local\\miniconda3\\envs\\genai\\lib\\site-packages (from transformers<5.0.0,>=4.32.0->sentence-transformers) (0.13.0.dev0)\n",
      "Requirement already satisfied: safetensors>=0.3.1 in c:\\users\\000137613\\appdata\\local\\miniconda3\\envs\\genai\\lib\\site-packages (from transformers<5.0.0,>=4.32.0->sentence-transformers) (0.4.0)\n",
      "Requirement already satisfied: click in c:\\users\\000137613\\appdata\\local\\miniconda3\\envs\\genai\\lib\\site-packages (from nltk->sentence-transformers) (7.1.2)\n",
      "Requirement already satisfied: joblib in c:\\users\\000137613\\appdata\\local\\miniconda3\\envs\\genai\\lib\\site-packages (from nltk->sentence-transformers) (1.2.0)\n",
      "Requirement already satisfied: threadpoolctl>=2.0.0 in c:\\users\\000137613\\appdata\\local\\miniconda3\\envs\\genai\\lib\\site-packages (from scikit-learn->sentence-transformers) (2.2.0)\n",
      "Requirement already satisfied: MarkupSafe>=2.0 in c:\\users\\000137613\\appdata\\local\\miniconda3\\envs\\genai\\lib\\site-packages (from jinja2->torch>=1.11.0->sentence-transformers) (2.1.3)\n",
      "Requirement already satisfied: charset-normalizer<4,>=2 in c:\\users\\000137613\\appdata\\local\\miniconda3\\envs\\genai\\lib\\site-packages (from requests->huggingface-hub>=0.15.1->sentence-transformers) (2.0.4)\n",
      "Requirement already satisfied: idna<4,>=2.5 in c:\\users\\000137613\\appdata\\local\\miniconda3\\envs\\genai\\lib\\site-packages (from requests->huggingface-hub>=0.15.1->sentence-transformers) (3.4)\n",
      "Requirement already satisfied: urllib3<3,>=1.21.1 in c:\\users\\000137613\\appdata\\local\\miniconda3\\envs\\genai\\lib\\site-packages (from requests->huggingface-hub>=0.15.1->sentence-transformers) (1.26.18)\n",
      "Requirement already satisfied: certifi>=2017.4.17 in c:\\users\\000137613\\appdata\\local\\miniconda3\\envs\\genai\\lib\\site-packages (from requests->huggingface-hub>=0.15.1->sentence-transformers) (2024.2.2)\n",
      "Requirement already satisfied: mpmath>=0.19 in c:\\users\\000137613\\appdata\\local\\miniconda3\\envs\\genai\\lib\\site-packages (from sympy->torch>=1.11.0->sentence-transformers) (1.3.0)\n"
     ]
    }
   ],
   "source": [
    "!pip install sentence-transformers"
   ]
  },
  {
   "cell_type": "code",
   "execution_count": 38,
   "id": "80e4c77f-31bf-495a-b89e-474e473c2822",
   "metadata": {},
   "outputs": [],
   "source": [
    "archivo_entrada = \"text_similarity_data_input_TEST.csv\"\n",
    "archivo_salida = \"text_similarity_data_output.csv\"\n",
    "modelo_1 = 'distiluse-base-multilingual-cased'\n",
    "modelo_2 = 'hiiamsid/sentence_similarity_spanish_es' # no funciona bien\n",
    "columna_texto1 = 'Expected Output 25/43GPT4'\n",
    "columna_texto2 = 'Response 25/3 GPT4'\n",
    "columna_nueva_resultado = 'Similarity_Score'"
   ]
  },
  {
   "cell_type": "code",
   "execution_count": 60,
   "id": "39ad0220-8673-4d2b-a3dd-42f364106a5b",
   "metadata": {},
   "outputs": [],
   "source": [
    "from sentence_transformers import SentenceTransformer, util\n",
    "import pandas as pd\n",
    "import numpy as np"
   ]
  },
  {
   "cell_type": "code",
   "execution_count": 40,
   "id": "c2d48fcd-768d-4a0a-a17a-14ec05822b5e",
   "metadata": {},
   "outputs": [],
   "source": [
    "def calcular_similitud(texto1, texto2, modelo):\n",
    "    # Cargar el modelo pre-entrenado\n",
    "    embedder = SentenceTransformer(modelo)\n",
    "    \n",
    "    # Codificar los textos en vectores de embeddings\n",
    "    embeddings1 = embedder.encode(texto1, convert_to_tensor=True)\n",
    "    embeddings2 = embedder.encode(texto2, convert_to_tensor=True)\n",
    "    \n",
    "    # Calcular la similitud coseno entre los vectores de embeddings\n",
    "    similitud = util.pytorch_cos_sim(embeddings1, embeddings2)\n",
    "    \n",
    "    return similitud.item()"
   ]
  },
  {
   "cell_type": "code",
   "execution_count": 50,
   "id": "7a4dfcf8-b789-446c-902a-b1ee7b2a5b87",
   "metadata": {},
   "outputs": [],
   "source": [
    "def comparar_textos_en_csv():\n",
    "    # Leer el archivo CSV de entrada\n",
    "    data = pd.read_csv(archivo_entrada, sep=';')\n",
    "    \n",
    "    # Calcular la similitud para cada par de textos\n",
    "    similitud_scores = []\n",
    "    for index, row in data.iterrows():\n",
    "        texto1 = row[columna_texto1]\n",
    "        texto2 = row[columna_texto2]\n",
    "        resultado_modelo1 = calcular_similitud(texto1, texto2, modelo_1)\n",
    "        #resultado_modelo2 = calcular_similitud(texto1, texto2, modelo_2) # no funciona bien\n",
    "        similitud = round(resultado_modelo1, 2) # round(((resultado_modelo1 + resultado_modelo2) / 2), 2)\n",
    "        similitud_scores.append(similitud)\n",
    "\n",
    "    # Agregar la columna de similitud al DataFrame\n",
    "    data[columna_nueva_resultado] = similitud_scores\n",
    "    \n",
    "    # Guardar el DataFrame con la nueva columna en un nuevo archivo CSV\n",
    "    data.to_csv(archivo_salida, index=False)\n",
    "\n",
    "    return data\n"
   ]
  },
  {
   "cell_type": "code",
   "execution_count": 51,
   "id": "3ae2b7f5-c8cc-4322-ad4b-ec6d66aef85e",
   "metadata": {},
   "outputs": [
    {
     "data": {
      "text/html": [
       "<div>\n",
       "<style scoped>\n",
       "    .dataframe tbody tr th:only-of-type {\n",
       "        vertical-align: middle;\n",
       "    }\n",
       "\n",
       "    .dataframe tbody tr th {\n",
       "        vertical-align: top;\n",
       "    }\n",
       "\n",
       "    .dataframe thead th {\n",
       "        text-align: right;\n",
       "    }\n",
       "</style>\n",
       "<table border=\"1\" class=\"dataframe\">\n",
       "  <thead>\n",
       "    <tr style=\"text-align: right;\">\n",
       "      <th></th>\n",
       "      <th>Utterances | Max 99</th>\n",
       "      <th>Question Code</th>\n",
       "      <th>Expected Output 25/43GPT4</th>\n",
       "      <th>Response 25/3 GPT4</th>\n",
       "      <th>COMENTARIOS 25/3 GPT4</th>\n",
       "      <th>result [Spacy]</th>\n",
       "      <th>result [Distancia-Cos]</th>\n",
       "      <th>result [RougeL]</th>\n",
       "      <th>NOTAS Y ACLARACIONES DECORRIDA CON GPT4</th>\n",
       "      <th>Similarity_Score</th>\n",
       "    </tr>\n",
       "  </thead>\n",
       "  <tbody>\n",
       "    <tr>\n",
       "      <th>0</th>\n",
       "      <td>¿Es valido el DNI digital para Creditos No pay...</td>\n",
       "      <td>3.1</td>\n",
       "      <td>La presentación del DNI digital generado por l...</td>\n",
       "      <td>Según la documentación proporcionada, el DNI d...</td>\n",
       "      <td>BIEN PARCIAL</td>\n",
       "      <td>0,734692822</td>\n",
       "      <td>0,150492172</td>\n",
       "      <td>0,593406593</td>\n",
       "      <td>Revisar lo resaltado en Rojo, porque está demás.</td>\n",
       "      <td>0.73</td>\n",
       "    </tr>\n",
       "    <tr>\n",
       "      <th>1</th>\n",
       "      <td>Para un cliente Independiente que quiere obten...</td>\n",
       "      <td>4.1</td>\n",
       "      <td>De no mencionar que el ingreso informado es “n...</td>\n",
       "      <td>Según la documentación proporcionada, para un ...</td>\n",
       "      <td>BIEN PARCIAL</td>\n",
       "      <td>0,790184751</td>\n",
       "      <td>0,240100809</td>\n",
       "      <td>0,202380952</td>\n",
       "      <td>Revisar lo resaltado en Rojo en Response porqu...</td>\n",
       "      <td>0.60</td>\n",
       "    </tr>\n",
       "    <tr>\n",
       "      <th>2</th>\n",
       "      <td>¿Qué es la politica gamers para Creditos no pa...</td>\n",
       "      <td>5.1</td>\n",
       "      <td>Se habilita una política especial para aquello...</td>\n",
       "      <td>La política gamers para créditos no payroll es...</td>\n",
       "      <td>NaN</td>\n",
       "      <td>0,928041522</td>\n",
       "      <td>0,164697411</td>\n",
       "      <td>0,747826087</td>\n",
       "      <td>NaN</td>\n",
       "      <td>0.84</td>\n",
       "    </tr>\n",
       "    <tr>\n",
       "      <th>3</th>\n",
       "      <td>¿Qué entra dentro de Renta presunta para Credi...</td>\n",
       "      <td>6.1</td>\n",
       "      <td>Bajo esta política se encuadran los siguientes...</td>\n",
       "      <td>Dentro de Renta Presunta para Créditos No Payr...</td>\n",
       "      <td>NaN</td>\n",
       "      <td>0,784197807</td>\n",
       "      <td>0,284333039</td>\n",
       "      <td>0,232142857</td>\n",
       "      <td>NaN</td>\n",
       "      <td>0.72</td>\n",
       "    </tr>\n",
       "    <tr>\n",
       "      <th>4</th>\n",
       "      <td>¿Qué debe contener un pedido de excepcion cred...</td>\n",
       "      <td>7.1</td>\n",
       "      <td>El pedido de excepción deberá contener una exp...</td>\n",
       "      <td>No hay nada en nuestra base de conocimientos s...</td>\n",
       "      <td>NaN</td>\n",
       "      <td>0,408489003</td>\n",
       "      <td>1,04289875</td>\n",
       "      <td>0,018018018</td>\n",
       "      <td>NaN</td>\n",
       "      <td>0.03</td>\n",
       "    </tr>\n",
       "    <tr>\n",
       "      <th>5</th>\n",
       "      <td>¿Cuáles son los profesionales open market para...</td>\n",
       "      <td>8.1</td>\n",
       "      <td>ABOGADO\\nARQUITECTO \\nECONOMISTA/CS. ECONOMICA...</td>\n",
       "      <td>No estoy tan seguro de entender bien la pregun...</td>\n",
       "      <td>NaN</td>\n",
       "      <td>0,417294664</td>\n",
       "      <td>0,68772537</td>\n",
       "      <td>0,043478261</td>\n",
       "      <td>NaN</td>\n",
       "      <td>0.07</td>\n",
       "    </tr>\n",
       "    <tr>\n",
       "      <th>6</th>\n",
       "      <td>Para Creditos Payroll ¿Es valida tomar nominas...</td>\n",
       "      <td>9.1</td>\n",
       "      <td>Será permitido el uso de nóminas como modalida...</td>\n",
       "      <td>La documentación proporcionada no indica explí...</td>\n",
       "      <td>NaN</td>\n",
       "      <td>0,724889694</td>\n",
       "      <td>0,370822625</td>\n",
       "      <td>0,158536585</td>\n",
       "      <td>NaN</td>\n",
       "      <td>0.34</td>\n",
       "    </tr>\n",
       "    <tr>\n",
       "      <th>7</th>\n",
       "      <td>Creditos Payroll, se puede ser usar nominas de...</td>\n",
       "      <td>9.2</td>\n",
       "      <td>Será permitido el uso de nóminas como modalida...</td>\n",
       "      <td>Sí, se pueden usar nóminas de empresas para lo...</td>\n",
       "      <td>NaN</td>\n",
       "      <td>0,789443199</td>\n",
       "      <td>0,294518561</td>\n",
       "      <td>0,205607477</td>\n",
       "      <td>NaN</td>\n",
       "      <td>0.38</td>\n",
       "    </tr>\n",
       "  </tbody>\n",
       "</table>\n",
       "</div>"
      ],
      "text/plain": [
       "                                 Utterances | Max 99  Question Code  \\\n",
       "0  ¿Es valido el DNI digital para Creditos No pay...            3.1   \n",
       "1  Para un cliente Independiente que quiere obten...            4.1   \n",
       "2  ¿Qué es la politica gamers para Creditos no pa...            5.1   \n",
       "3  ¿Qué entra dentro de Renta presunta para Credi...            6.1   \n",
       "4  ¿Qué debe contener un pedido de excepcion cred...            7.1   \n",
       "5  ¿Cuáles son los profesionales open market para...            8.1   \n",
       "6  Para Creditos Payroll ¿Es valida tomar nominas...            9.1   \n",
       "7  Creditos Payroll, se puede ser usar nominas de...            9.2   \n",
       "\n",
       "                           Expected Output 25/43GPT4  \\\n",
       "0  La presentación del DNI digital generado por l...   \n",
       "1  De no mencionar que el ingreso informado es “n...   \n",
       "2  Se habilita una política especial para aquello...   \n",
       "3  Bajo esta política se encuadran los siguientes...   \n",
       "4  El pedido de excepción deberá contener una exp...   \n",
       "5  ABOGADO\\nARQUITECTO \\nECONOMISTA/CS. ECONOMICA...   \n",
       "6  Será permitido el uso de nóminas como modalida...   \n",
       "7  Será permitido el uso de nóminas como modalida...   \n",
       "\n",
       "                                  Response 25/3 GPT4 COMENTARIOS 25/3 GPT4  \\\n",
       "0  Según la documentación proporcionada, el DNI d...          BIEN PARCIAL   \n",
       "1  Según la documentación proporcionada, para un ...          BIEN PARCIAL   \n",
       "2  La política gamers para créditos no payroll es...                   NaN   \n",
       "3  Dentro de Renta Presunta para Créditos No Payr...                   NaN   \n",
       "4  No hay nada en nuestra base de conocimientos s...                   NaN   \n",
       "5  No estoy tan seguro de entender bien la pregun...                   NaN   \n",
       "6  La documentación proporcionada no indica explí...                   NaN   \n",
       "7  Sí, se pueden usar nóminas de empresas para lo...                   NaN   \n",
       "\n",
       "  result [Spacy] result [Distancia-Cos] result [RougeL]  \\\n",
       "0    0,734692822            0,150492172     0,593406593   \n",
       "1    0,790184751            0,240100809     0,202380952   \n",
       "2    0,928041522            0,164697411     0,747826087   \n",
       "3    0,784197807            0,284333039     0,232142857   \n",
       "4    0,408489003             1,04289875     0,018018018   \n",
       "5    0,417294664             0,68772537     0,043478261   \n",
       "6    0,724889694            0,370822625     0,158536585   \n",
       "7    0,789443199            0,294518561     0,205607477   \n",
       "\n",
       "             NOTAS Y ACLARACIONES DECORRIDA CON GPT4  Similarity_Score  \n",
       "0   Revisar lo resaltado en Rojo, porque está demás.              0.73  \n",
       "1  Revisar lo resaltado en Rojo en Response porqu...              0.60  \n",
       "2                                                NaN              0.84  \n",
       "3                                                NaN              0.72  \n",
       "4                                                NaN              0.03  \n",
       "5                                                NaN              0.07  \n",
       "6                                                NaN              0.34  \n",
       "7                                                NaN              0.38  "
      ]
     },
     "execution_count": 51,
     "metadata": {},
     "output_type": "execute_result"
    }
   ],
   "source": [
    "comparar_textos_en_csv()"
   ]
  },
  {
   "cell_type": "code",
   "execution_count": 52,
   "id": "5bb5aaa2-e658-4780-a2d2-2027be7a0134",
   "metadata": {},
   "outputs": [
    {
     "name": "stdout",
     "output_type": "stream",
     "text": [
      "La similitud entre los textos se ha calculado y guardado en:  text_similarity_data_output.csv\n"
     ]
    }
   ],
   "source": [
    "print(\"La similitud entre los textos se ha calculado y guardado en: \", archivo_salida)"
   ]
  },
  {
   "cell_type": "code",
   "execution_count": 75,
   "id": "cc4e2797-e7df-4cc1-bfd5-21d2fa8eccdd",
   "metadata": {},
   "outputs": [
    {
     "name": "stdout",
     "output_type": "stream",
     "text": [
      "\n",
      "\n",
      "Frase 1 - distiluse-base-multilingual-cased: 0.73\n",
      "Frase 1 - hiiamsid/sentence_similarity_spanish_es: 0.78\n",
      "Frase 1 - multi-qa-MiniLM-L6-cos-v1: 0.78\n",
      "Frase 1 - mrm8488/distiluse-base-multilingual-cased-v2-finetuned-stsb_multi_mt-es: 0.75\n",
      "Frase 1 promedio: 0.76\n",
      "\n",
      "\n",
      "Frase 2 - distiluse-base-multilingual-cased: 0.6\n",
      "Frase 2 - hiiamsid/sentence_similarity_spanish_es: 0.67\n",
      "Frase 2 - multi-qa-MiniLM-L6-cos-v1: 0.65\n",
      "Frase 2 - mrm8488/distiluse-base-multilingual-cased-v2-finetuned-stsb_multi_mt-es: 0.74\n",
      "Frase 2 promedio: 0.67\n",
      "\n",
      "\n",
      "Frase 3 - distiluse-base-multilingual-cased: 0.83\n",
      "Frase 3 - hiiamsid/sentence_similarity_spanish_es: 0.37\n",
      "Frase 3 - multi-qa-MiniLM-L6-cos-v1: 0.58\n",
      "Frase 3 - mrm8488/distiluse-base-multilingual-cased-v2-finetuned-stsb_multi_mt-es: 0.67\n",
      "Frase 3 promedio: 0.61\n"
     ]
    }
   ],
   "source": [
    "### PRUEBAS\n",
    "\n",
    "array_modelos = np.array(['distiluse-base-multilingual-cased','hiiamsid/sentence_similarity_spanish_es','multi-qa-MiniLM-L6-cos-v1','mrm8488/distiluse-base-multilingual-cased-v2-finetuned-stsb_multi_mt-es'])\n",
    "array_similitudes = np.array([[\"La presentación del DNI digital generado por la aplicación “Mi Argentina” será válida únicamente para el canal de sucursales tanto para clientes existentes como para clientes nuevos.\",\"Según la documentación proporcionada, el DNI digital generado por la aplicación Mi Argentina será válido únicamente para el canal de sucursales tanto para clientes existentes como para clientes nuevos. Sin embargo, no se especifica si es válido específicamente para créditos No Payroll. Para obtener más información, se recomienda contactar directamente con HSBC.\"]\n",
    "                              ,[\"De no mencionar que el ingreso informado es “neto”, se deberá considerar el 70% del ingreso informado para el caso de Profesionales, y el 50% en el caso de No Profesionales. Asimismo, se admite como documento válido, la certificación de contador público de CABA cuya homologación sea realizada por transmisión electrónica de datos (vía internet)\",\"Según la documentación proporcionada, para un cliente Independiente que desea obtener un Crédito No Payroll, el porcentaje de ingresos sobre la certificación de ingresos dependerá de la descripción de la actividad. Para profesionales, se considerará el 70% del máximo de la categoría, mientras que para no profesionales (comerciantes, servicios, otros) se considerará el 50% del máximo de la categoría. El monto obtenido aplicando estos porcentajes se dividirá por 12 para calcular el ingreso neto mensual. Puede encontrar más información en el documento 'No Payroll, Préstamos->Criterio de cálculo de Ingresos, Inversiones o Patrimonio'.\"]\n",
    "                              ,[\"se perdió el perro de mi madre el martes pasado\",\"el can de mi mamá se ha extraviado la semana pasada y no lo hemos encontrado aún\"]\n",
    "])\n",
    "i = 0\n",
    "for frase in array_similitudes:\n",
    "    i += 1\n",
    "    print(\"\\n\")\n",
    "    acum = 0\n",
    "    j = 0\n",
    "    for modelo in array_modelos:\n",
    "        j += 1\n",
    "        similitud = calcular_similitud(frase[0], frase[1], modelo)\n",
    "        acum = acum + similitud\n",
    "        print(\"Frase \" + str(i) + \" - \" + modelo + \": \" + str(round(similitud,2)))\n",
    "    promedio = (acum / j)\n",
    "    print(\"Frase \" + str(i) + \" promedio: \" + str(round(promedio,2)))"
   ]
  },
  {
   "cell_type": "code",
   "execution_count": 57,
   "id": "2663d2cf-d5c0-4554-b767-3a86f5266089",
   "metadata": {},
   "outputs": [
    {
     "name": "stdin",
     "output_type": "stream",
     "text": [
      "Ingrese el primer texto:  se perdió el perro de mi madre el martes pasado\n",
      "Ingrese el segundo texto:  el can de mi mamá se ha extraviado la semana pasada y no lo hemos encontrado aún\n"
     ]
    },
    {
     "name": "stdout",
     "output_type": "stream",
     "text": [
      "La similitud entre los textos es: 0.8324689269065857\n",
      "La similitud entre los textos es: 0.36594340205192566\n",
      "La similitud entre los textos es: 0.576980710029602\n",
      "La similitud entre los textos es: 0.5295405983924866\n"
     ]
    },
    {
     "data": {
      "application/vnd.jupyter.widget-view+json": {
       "model_id": "9d5381b22a6340558b323916c857f549",
       "version_major": 2,
       "version_minor": 0
      },
      "text/plain": [
       ".gitattributes:   0%|          | 0.00/1.18k [00:00<?, ?B/s]"
      ]
     },
     "metadata": {},
     "output_type": "display_data"
    },
    {
     "data": {
      "application/vnd.jupyter.widget-view+json": {
       "model_id": "193434ebe98a46eaa67345b4cb20f8db",
       "version_major": 2,
       "version_minor": 0
      },
      "text/plain": [
       "1_Pooling/config.json:   0%|          | 0.00/190 [00:00<?, ?B/s]"
      ]
     },
     "metadata": {},
     "output_type": "display_data"
    },
    {
     "data": {
      "application/vnd.jupyter.widget-view+json": {
       "model_id": "58b948eb8cef4138b92cad2bdee568de",
       "version_major": 2,
       "version_minor": 0
      },
      "text/plain": [
       "README.md:   0%|          | 0.00/4.97k [00:00<?, ?B/s]"
      ]
     },
     "metadata": {},
     "output_type": "display_data"
    },
    {
     "data": {
      "application/vnd.jupyter.widget-view+json": {
       "model_id": "dbead78dbfd040f5aa8afcf489163e2a",
       "version_major": 2,
       "version_minor": 0
      },
      "text/plain": [
       "config.json:   0%|          | 0.00/637 [00:00<?, ?B/s]"
      ]
     },
     "metadata": {},
     "output_type": "display_data"
    },
    {
     "data": {
      "application/vnd.jupyter.widget-view+json": {
       "model_id": "4d67295584a94b779b2e1316517c7ff8",
       "version_major": 2,
       "version_minor": 0
      },
      "text/plain": [
       "config_sentence_transformers.json:   0%|          | 0.00/124 [00:00<?, ?B/s]"
      ]
     },
     "metadata": {},
     "output_type": "display_data"
    },
    {
     "data": {
      "application/vnd.jupyter.widget-view+json": {
       "model_id": "be2cbe28138e4846b5c07687bd94713d",
       "version_major": 2,
       "version_minor": 0
      },
      "text/plain": [
       "pytorch_model.bin:   0%|          | 0.00/539M [00:00<?, ?B/s]"
      ]
     },
     "metadata": {},
     "output_type": "display_data"
    },
    {
     "data": {
      "application/vnd.jupyter.widget-view+json": {
       "model_id": "523e4bfe81764956baef17872d100d1a",
       "version_major": 2,
       "version_minor": 0
      },
      "text/plain": [
       "sentence_bert_config.json:   0%|          | 0.00/53.0 [00:00<?, ?B/s]"
      ]
     },
     "metadata": {},
     "output_type": "display_data"
    },
    {
     "data": {
      "application/vnd.jupyter.widget-view+json": {
       "model_id": "fd6a869c502e4fd09d8916588b3549ef",
       "version_major": 2,
       "version_minor": 0
      },
      "text/plain": [
       "special_tokens_map.json:   0%|          | 0.00/112 [00:00<?, ?B/s]"
      ]
     },
     "metadata": {},
     "output_type": "display_data"
    },
    {
     "data": {
      "application/vnd.jupyter.widget-view+json": {
       "model_id": "9e1ac72f2ca64a3396e0c862662724c4",
       "version_major": 2,
       "version_minor": 0
      },
      "text/plain": [
       "tokenizer.json:   0%|          | 0.00/2.92M [00:00<?, ?B/s]"
      ]
     },
     "metadata": {},
     "output_type": "display_data"
    },
    {
     "data": {
      "application/vnd.jupyter.widget-view+json": {
       "model_id": "f51aa7917f6e43fdb7168ed4ac5edb05",
       "version_major": 2,
       "version_minor": 0
      },
      "text/plain": [
       "tokenizer_config.json:   0%|          | 0.00/571 [00:00<?, ?B/s]"
      ]
     },
     "metadata": {},
     "output_type": "display_data"
    },
    {
     "data": {
      "application/vnd.jupyter.widget-view+json": {
       "model_id": "4d05fcbfa78541e28ffef58bda6ef37e",
       "version_major": 2,
       "version_minor": 0
      },
      "text/plain": [
       "vocab.txt:   0%|          | 0.00/996k [00:00<?, ?B/s]"
      ]
     },
     "metadata": {},
     "output_type": "display_data"
    },
    {
     "data": {
      "application/vnd.jupyter.widget-view+json": {
       "model_id": "073c92e478314879a2bfe5ba794dbf50",
       "version_major": 2,
       "version_minor": 0
      },
      "text/plain": [
       "modules.json:   0%|          | 0.00/229 [00:00<?, ?B/s]"
      ]
     },
     "metadata": {},
     "output_type": "display_data"
    },
    {
     "name": "stdout",
     "output_type": "stream",
     "text": [
      "La similitud entre los textos es: 0.6698235273361206\n",
      "Promedio entre los 2 modelos es:  0.74\n"
     ]
    }
   ],
   "source": [
    "# Prueba simple\n",
    "if __name__ == \"__main__\":\n",
    "    texto1 = input(\"Ingrese el primer texto: \")\n",
    "    texto2 = input(\"Ingrese el segundo texto: \")\n",
    "    \n",
    "    similitud1 = calcular_similitud(texto1, texto2, modelo_1)\n",
    "    print(\"La similitud entre los textos es:\", similitud1)\n",
    "\n",
    "    similitud2 = calcular_similitud(texto1, texto2, modelo_2)\n",
    "    print(\"La similitud entre los textos es:\", similitud2)\n",
    "\n",
    "    similitud3 = calcular_similitud(texto1, texto2, \"multi-qa-MiniLM-L6-cos-v1\")\n",
    "    print(\"La similitud entre los textos es:\", similitud3)\n",
    "\n",
    "    similitud4 = calcular_similitud(texto1, texto2, 'distiluse-base-multilingual-cased-v1')\n",
    "    print(\"La similitud entre los textos es:\", similitud4)\n",
    "\n",
    "    similitud5 = calcular_similitud(texto1, texto2, 'mrm8488/distiluse-base-multilingual-cased-v2-finetuned-stsb_multi_mt-es')\n",
    "    print(\"La similitud entre los textos es:\", similitud5)\n",
    "\n",
    "    promedio = round(((similitud1 + similitud2 + similitud3 + similitud4 + similitud5) / 4), 2)\n",
    "    print(\"Promedio entre los 2 modelos es: \", promedio)"
   ]
  }
 ],
 "metadata": {
  "kernelspec": {
   "display_name": "Python 3 (ipykernel)",
   "language": "python",
   "name": "python3"
  },
  "language_info": {
   "codemirror_mode": {
    "name": "ipython",
    "version": 3
   },
   "file_extension": ".py",
   "mimetype": "text/x-python",
   "name": "python",
   "nbconvert_exporter": "python",
   "pygments_lexer": "ipython3",
   "version": "3.12.7"
  }
 },
 "nbformat": 4,
 "nbformat_minor": 5
}
